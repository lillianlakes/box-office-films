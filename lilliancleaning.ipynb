{
 "cells": [
  {
   "attachments": {},
   "cell_type": "markdown",
   "metadata": {},
   "source": [
    "# **Movie Analysis Notebook**"
   ]
  },
  {
   "cell_type": "code",
   "execution_count": 89,
   "metadata": {},
   "outputs": [],
   "source": [
    "import pandas as pd\n",
    "import numpy as np\n",
    "import matplotlib.pyplot as plt\n",
    "import matplotlib.ticker as ticker\n",
    "import seaborn as sns\n",
    "from scipy import stats\n",
    "from sklearn.linear_model import LinearRegression\n",
    "import math\n",
    "import sqlite3\n",
    "import zipfile\n",
    "import warnings\n",
    "warnings.filterwarnings('ignore')"
   ]
  },
  {
   "cell_type": "code",
   "execution_count": 47,
   "metadata": {},
   "outputs": [],
   "source": [
    "movie = pd.read_csv('zippedData/tmdb.movies.csv.gz')\n",
    "movie_info = pd.read_csv('zippedData/rt.movie_info.tsv.gz',sep='\\t', compression='gzip')\n",
    "movie_review = pd.read_csv('zippedData/rt.reviews.tsv.gz', sep='\\t', encoding='latin1')\n",
    "movie_gross = pd.read_csv('zippedData/bom.movie_gross.csv.gz')\n",
    "movie_budget = pd.read_csv('zippedData/tn.movie_budgets.csv.gz')\n",
    "conn = sqlite3.connect('im.db.zip')"
   ]
  },
  {
   "cell_type": "code",
   "execution_count": 48,
   "metadata": {},
   "outputs": [],
   "source": [
    "#specify the path to the zip file\n",
    "zip_file_path = 'zippedData/im.db.zip'\n",
    "\n",
    "#Extract the SQLite database file from the zip file\n",
    "with zipfile.ZipFile(zip_file_path, 'r') as zip_ref:\n",
    "    zip_ref.extractall('unzippedData')\n",
    "\n",
    "#connect to extracted SQLite database\n",
    "database_path = 'unzippedData/im.db'\n",
    "conn = sqlite3.connect(database_path)"
   ]
  },
  {
   "attachments": {},
   "cell_type": "markdown",
   "metadata": {},
   "source": [
    "## **Movie DF EDA**"
   ]
  },
  {
   "cell_type": "code",
   "execution_count": 49,
   "metadata": {},
   "outputs": [],
   "source": [
    "# drop the 'Unnamed: 0' column from the movie dataframe\n",
    "movie.drop('Unnamed: 0', axis=1, inplace=True)"
   ]
  },
  {
   "cell_type": "code",
   "execution_count": 50,
   "metadata": {},
   "outputs": [],
   "source": [
    "# convert release_date to datetime and filter for movies\n",
    "movie['release_date'] = pd.to_datetime(movie['release_date'])\n",
    "\n",
    "# create a new column called release month that takes the month from release_date\n",
    "movie['release_month'] = movie['release_date'].dt.month\n",
    "\n",
    "# create a column called release_year and take just the year from release_date\n",
    "movie['release_year'] = pd.to_datetime(movie['release_date']).dt.year\n",
    "\n",
    "# drop the release_date column\n",
    "movie.drop('release_date', axis=1, inplace=True)"
   ]
  },
  {
   "attachments": {},
   "cell_type": "markdown",
   "metadata": {},
   "source": [
    "## **Movie_Budget EDA**"
   ]
  },
  {
   "cell_type": "code",
   "execution_count": 51,
   "metadata": {},
   "outputs": [],
   "source": [
    "# convert release_date to datetime format\n",
    "movie_budget['release_date'] = pd.to_datetime(movie_budget['release_date'])\n",
    "\n",
    "# create new columns release_year and release_month\n",
    "movie_budget['release_year'] = movie_budget['release_date'].dt.year\n",
    "movie_budget['release_month'] = movie_budget['release_date'].dt.month\n",
    "\n",
    "# drop release_date column from movie_budget dataframe\n",
    "movie_budget.drop('release_date', axis=1, inplace=True)\n",
    "\n",
    "# convert production_budget, domestic_gross, and worldwide_gross to numerical values\n",
    "movie_budget['production_budget'] = pd.to_numeric(movie_budget['production_budget'].str.replace('$','').str.replace(',',''), errors='coerce')\n",
    "movie_budget['domestic_gross'] = pd.to_numeric(movie_budget['domestic_gross'].str.replace('$','').str.replace(',',''), errors='coerce')\n",
    "movie_budget['worldwide_gross'] = pd.to_numeric(movie_budget['worldwide_gross'].str.replace('$','').str.replace(',',''), errors='coerce')"
   ]
  },
  {
   "attachments": {},
   "cell_type": "markdown",
   "metadata": {},
   "source": [
    "# Merging Movie and Movie_Budget"
   ]
  },
  {
   "cell_type": "code",
   "execution_count": 52,
   "metadata": {},
   "outputs": [],
   "source": [
    "# merge movie_budget and movie dataframes using 'movie' and 'title' columns respectively\n",
    "merged_df = pd.merge(movie_budget, movie, left_on='movie', right_on='title')"
   ]
  },
  {
   "cell_type": "code",
   "execution_count": 53,
   "metadata": {},
   "outputs": [
    {
     "name": "stdout",
     "output_type": "stream",
     "text": [
      "<class 'pandas.core.frame.DataFrame'>\n",
      "RangeIndex: 2385 entries, 0 to 2384\n",
      "Data columns (total 17 columns):\n",
      " #   Column             Non-Null Count  Dtype  \n",
      "---  ------             --------------  -----  \n",
      " 0   id_x               2385 non-null   int64  \n",
      " 1   movie              2385 non-null   object \n",
      " 2   production_budget  2385 non-null   int64  \n",
      " 3   domestic_gross     2385 non-null   int64  \n",
      " 4   worldwide_gross    2385 non-null   int64  \n",
      " 5   release_year_x     2385 non-null   int32  \n",
      " 6   release_month_x    2385 non-null   int32  \n",
      " 7   genre_ids          2385 non-null   object \n",
      " 8   id_y               2385 non-null   int64  \n",
      " 9   original_language  2385 non-null   object \n",
      " 10  original_title     2385 non-null   object \n",
      " 11  popularity         2385 non-null   float64\n",
      " 12  title              2385 non-null   object \n",
      " 13  vote_average       2385 non-null   float64\n",
      " 14  vote_count         2385 non-null   int64  \n",
      " 15  release_month_y    2385 non-null   int32  \n",
      " 16  release_year_y     2385 non-null   int32  \n",
      "dtypes: float64(2), int32(4), int64(6), object(5)\n",
      "memory usage: 279.6+ KB\n"
     ]
    }
   ],
   "source": [
    "merged_df.info()"
   ]
  },
  {
   "cell_type": "code",
   "execution_count": 54,
   "metadata": {},
   "outputs": [],
   "source": [
    "merged_df.drop(['id_y', 'original_title', 'title', 'release_year_x', 'release_month_x'], axis=1, inplace=True)"
   ]
  },
  {
   "cell_type": "code",
   "execution_count": 55,
   "metadata": {},
   "outputs": [],
   "source": [
    "merged_df.rename(columns={'id_x': 'id', 'release_year_y': 'release_year', 'release_month_y': 'release_month'}, inplace=True)"
   ]
  },
  {
   "cell_type": "code",
   "execution_count": 56,
   "metadata": {
    "scrolled": true
   },
   "outputs": [],
   "source": [
    "merged_df.drop_duplicates(subset='movie', keep='last', inplace=True)"
   ]
  },
  {
   "cell_type": "code",
   "execution_count": 57,
   "metadata": {},
   "outputs": [],
   "source": [
    "merged_df['net_profit'] = merged_df['worldwide_gross'] - merged_df['production_budget']"
   ]
  },
  {
   "cell_type": "code",
   "execution_count": 58,
   "metadata": {},
   "outputs": [],
   "source": [
    "#create columns for low, mid, and high budgets films \n",
    "def budget(x): \n",
    "    if x < 5000000: \n",
    "        budget = 'low'\n",
    "    if 5000000 <= x < 50000000: \n",
    "        budget = 'mid'\n",
    "    if x >= 50000000:\n",
    "        budget = 'high'\n",
    "    return budget\n"
   ]
  },
  {
   "cell_type": "code",
   "execution_count": 59,
   "metadata": {},
   "outputs": [],
   "source": [
    "#feature engineering\n",
    "merged_df['budget'] = merged_df['production_budget'].apply(lambda x: budget(x))"
   ]
  },
  {
   "cell_type": "code",
   "execution_count": 60,
   "metadata": {},
   "outputs": [
    {
     "data": {
      "text/html": [
       "<div>\n",
       "<style scoped>\n",
       "    .dataframe tbody tr th:only-of-type {\n",
       "        vertical-align: middle;\n",
       "    }\n",
       "\n",
       "    .dataframe tbody tr th {\n",
       "        vertical-align: top;\n",
       "    }\n",
       "\n",
       "    .dataframe thead th {\n",
       "        text-align: right;\n",
       "    }\n",
       "</style>\n",
       "<table border=\"1\" class=\"dataframe\">\n",
       "  <thead>\n",
       "    <tr style=\"text-align: right;\">\n",
       "      <th></th>\n",
       "      <th>id</th>\n",
       "      <th>movie</th>\n",
       "      <th>production_budget</th>\n",
       "      <th>domestic_gross</th>\n",
       "      <th>worldwide_gross</th>\n",
       "      <th>genre_ids</th>\n",
       "      <th>original_language</th>\n",
       "      <th>popularity</th>\n",
       "      <th>vote_average</th>\n",
       "      <th>vote_count</th>\n",
       "      <th>release_month</th>\n",
       "      <th>release_year</th>\n",
       "      <th>net_profit</th>\n",
       "      <th>budget</th>\n",
       "    </tr>\n",
       "  </thead>\n",
       "  <tbody>\n",
       "    <tr>\n",
       "      <th>0</th>\n",
       "      <td>1</td>\n",
       "      <td>Avatar</td>\n",
       "      <td>425000000</td>\n",
       "      <td>760507625</td>\n",
       "      <td>2776345279</td>\n",
       "      <td>[28, 12, 14, 878]</td>\n",
       "      <td>en</td>\n",
       "      <td>26.526</td>\n",
       "      <td>7.4</td>\n",
       "      <td>18676</td>\n",
       "      <td>12</td>\n",
       "      <td>2009</td>\n",
       "      <td>2351345279</td>\n",
       "      <td>high</td>\n",
       "    </tr>\n",
       "    <tr>\n",
       "      <th>1</th>\n",
       "      <td>2</td>\n",
       "      <td>Pirates of the Caribbean: On Stranger Tides</td>\n",
       "      <td>410600000</td>\n",
       "      <td>241063875</td>\n",
       "      <td>1045663875</td>\n",
       "      <td>[12, 28, 14]</td>\n",
       "      <td>en</td>\n",
       "      <td>30.579</td>\n",
       "      <td>6.4</td>\n",
       "      <td>8571</td>\n",
       "      <td>5</td>\n",
       "      <td>2011</td>\n",
       "      <td>635063875</td>\n",
       "      <td>high</td>\n",
       "    </tr>\n",
       "    <tr>\n",
       "      <th>2</th>\n",
       "      <td>4</td>\n",
       "      <td>Avengers: Age of Ultron</td>\n",
       "      <td>330600000</td>\n",
       "      <td>459005868</td>\n",
       "      <td>1403013963</td>\n",
       "      <td>[28, 12, 878]</td>\n",
       "      <td>en</td>\n",
       "      <td>44.383</td>\n",
       "      <td>7.3</td>\n",
       "      <td>13457</td>\n",
       "      <td>5</td>\n",
       "      <td>2015</td>\n",
       "      <td>1072413963</td>\n",
       "      <td>high</td>\n",
       "    </tr>\n",
       "    <tr>\n",
       "      <th>3</th>\n",
       "      <td>7</td>\n",
       "      <td>Avengers: Infinity War</td>\n",
       "      <td>300000000</td>\n",
       "      <td>678815482</td>\n",
       "      <td>2048134200</td>\n",
       "      <td>[12, 28, 14]</td>\n",
       "      <td>en</td>\n",
       "      <td>80.773</td>\n",
       "      <td>8.3</td>\n",
       "      <td>13948</td>\n",
       "      <td>4</td>\n",
       "      <td>2018</td>\n",
       "      <td>1748134200</td>\n",
       "      <td>high</td>\n",
       "    </tr>\n",
       "    <tr>\n",
       "      <th>5</th>\n",
       "      <td>9</td>\n",
       "      <td>Justice League</td>\n",
       "      <td>300000000</td>\n",
       "      <td>229024295</td>\n",
       "      <td>655945209</td>\n",
       "      <td>[28, 12, 14, 878]</td>\n",
       "      <td>en</td>\n",
       "      <td>34.953</td>\n",
       "      <td>6.2</td>\n",
       "      <td>7510</td>\n",
       "      <td>11</td>\n",
       "      <td>2017</td>\n",
       "      <td>355945209</td>\n",
       "      <td>high</td>\n",
       "    </tr>\n",
       "  </tbody>\n",
       "</table>\n",
       "</div>"
      ],
      "text/plain": [
       "   id                                        movie  production_budget  \\\n",
       "0   1                                       Avatar          425000000   \n",
       "1   2  Pirates of the Caribbean: On Stranger Tides          410600000   \n",
       "2   4                      Avengers: Age of Ultron          330600000   \n",
       "3   7                       Avengers: Infinity War          300000000   \n",
       "5   9                               Justice League          300000000   \n",
       "\n",
       "   domestic_gross  worldwide_gross          genre_ids original_language  \\\n",
       "0       760507625       2776345279  [28, 12, 14, 878]                en   \n",
       "1       241063875       1045663875       [12, 28, 14]                en   \n",
       "2       459005868       1403013963      [28, 12, 878]                en   \n",
       "3       678815482       2048134200       [12, 28, 14]                en   \n",
       "5       229024295        655945209  [28, 12, 14, 878]                en   \n",
       "\n",
       "   popularity  vote_average  vote_count  release_month  release_year  \\\n",
       "0      26.526           7.4       18676             12          2009   \n",
       "1      30.579           6.4        8571              5          2011   \n",
       "2      44.383           7.3       13457              5          2015   \n",
       "3      80.773           8.3       13948              4          2018   \n",
       "5      34.953           6.2        7510             11          2017   \n",
       "\n",
       "   net_profit budget  \n",
       "0  2351345279   high  \n",
       "1   635063875   high  \n",
       "2  1072413963   high  \n",
       "3  1748134200   high  \n",
       "5   355945209   high  "
      ]
     },
     "execution_count": 60,
     "metadata": {},
     "output_type": "execute_result"
    }
   ],
   "source": [
    "merged_df.head()"
   ]
  },
  {
   "cell_type": "code",
   "execution_count": 61,
   "metadata": {},
   "outputs": [],
   "source": [
    "merged_df['profit_margin'] = round(((merged_df['worldwide_gross'] - merged_df['production_budget']) / merged_df['worldwide_gross'] * 100), 2)"
   ]
  },
  {
   "cell_type": "code",
   "execution_count": 62,
   "metadata": {},
   "outputs": [
    {
     "name": "stdout",
     "output_type": "stream",
     "text": [
      "<class 'pandas.core.frame.DataFrame'>\n",
      "Index: 1924 entries, 0 to 2384\n",
      "Data columns (total 15 columns):\n",
      " #   Column             Non-Null Count  Dtype  \n",
      "---  ------             --------------  -----  \n",
      " 0   id                 1924 non-null   int64  \n",
      " 1   movie              1924 non-null   object \n",
      " 2   production_budget  1924 non-null   int64  \n",
      " 3   domestic_gross     1924 non-null   int64  \n",
      " 4   worldwide_gross    1924 non-null   int64  \n",
      " 5   genre_ids          1924 non-null   object \n",
      " 6   original_language  1924 non-null   object \n",
      " 7   popularity         1924 non-null   float64\n",
      " 8   vote_average       1924 non-null   float64\n",
      " 9   vote_count         1924 non-null   int64  \n",
      " 10  release_month      1924 non-null   int32  \n",
      " 11  release_year       1924 non-null   int32  \n",
      " 12  net_profit         1924 non-null   int64  \n",
      " 13  budget             1924 non-null   object \n",
      " 14  profit_margin      1924 non-null   float64\n",
      "dtypes: float64(3), int32(2), int64(6), object(4)\n",
      "memory usage: 225.5+ KB\n"
     ]
    }
   ],
   "source": [
    "merged_df.info()"
   ]
  },
  {
   "cell_type": "code",
   "execution_count": 63,
   "metadata": {},
   "outputs": [],
   "source": [
    "\n",
    "# Remove the '[' and ']' from the values in 'genre_ids' column\n",
    "merged_df['genre_ids'] = merged_df['genre_ids'].str.replace('[', '').str.replace(']', '')\n",
    "\n"
   ]
  },
  {
   "cell_type": "code",
   "execution_count": 64,
   "metadata": {},
   "outputs": [
    {
     "data": {
      "text/html": [
       "<div>\n",
       "<style scoped>\n",
       "    .dataframe tbody tr th:only-of-type {\n",
       "        vertical-align: middle;\n",
       "    }\n",
       "\n",
       "    .dataframe tbody tr th {\n",
       "        vertical-align: top;\n",
       "    }\n",
       "\n",
       "    .dataframe thead th {\n",
       "        text-align: right;\n",
       "    }\n",
       "</style>\n",
       "<table border=\"1\" class=\"dataframe\">\n",
       "  <thead>\n",
       "    <tr style=\"text-align: right;\">\n",
       "      <th></th>\n",
       "      <th>id</th>\n",
       "      <th>movie</th>\n",
       "      <th>production_budget</th>\n",
       "      <th>domestic_gross</th>\n",
       "      <th>worldwide_gross</th>\n",
       "      <th>genre_ids</th>\n",
       "      <th>original_language</th>\n",
       "      <th>popularity</th>\n",
       "      <th>vote_average</th>\n",
       "      <th>vote_count</th>\n",
       "      <th>release_month</th>\n",
       "      <th>release_year</th>\n",
       "      <th>net_profit</th>\n",
       "      <th>budget</th>\n",
       "      <th>profit_margin</th>\n",
       "    </tr>\n",
       "  </thead>\n",
       "  <tbody>\n",
       "    <tr>\n",
       "      <th>0</th>\n",
       "      <td>1</td>\n",
       "      <td>Avatar</td>\n",
       "      <td>425000000</td>\n",
       "      <td>760507625</td>\n",
       "      <td>2776345279</td>\n",
       "      <td>28, 12, 14, 878</td>\n",
       "      <td>en</td>\n",
       "      <td>26.526</td>\n",
       "      <td>7.4</td>\n",
       "      <td>18676</td>\n",
       "      <td>12</td>\n",
       "      <td>2009</td>\n",
       "      <td>2351345279</td>\n",
       "      <td>high</td>\n",
       "      <td>84.69</td>\n",
       "    </tr>\n",
       "    <tr>\n",
       "      <th>1</th>\n",
       "      <td>2</td>\n",
       "      <td>Pirates of the Caribbean: On Stranger Tides</td>\n",
       "      <td>410600000</td>\n",
       "      <td>241063875</td>\n",
       "      <td>1045663875</td>\n",
       "      <td>12, 28, 14</td>\n",
       "      <td>en</td>\n",
       "      <td>30.579</td>\n",
       "      <td>6.4</td>\n",
       "      <td>8571</td>\n",
       "      <td>5</td>\n",
       "      <td>2011</td>\n",
       "      <td>635063875</td>\n",
       "      <td>high</td>\n",
       "      <td>60.73</td>\n",
       "    </tr>\n",
       "    <tr>\n",
       "      <th>2</th>\n",
       "      <td>4</td>\n",
       "      <td>Avengers: Age of Ultron</td>\n",
       "      <td>330600000</td>\n",
       "      <td>459005868</td>\n",
       "      <td>1403013963</td>\n",
       "      <td>28, 12, 878</td>\n",
       "      <td>en</td>\n",
       "      <td>44.383</td>\n",
       "      <td>7.3</td>\n",
       "      <td>13457</td>\n",
       "      <td>5</td>\n",
       "      <td>2015</td>\n",
       "      <td>1072413963</td>\n",
       "      <td>high</td>\n",
       "      <td>76.44</td>\n",
       "    </tr>\n",
       "    <tr>\n",
       "      <th>3</th>\n",
       "      <td>7</td>\n",
       "      <td>Avengers: Infinity War</td>\n",
       "      <td>300000000</td>\n",
       "      <td>678815482</td>\n",
       "      <td>2048134200</td>\n",
       "      <td>12, 28, 14</td>\n",
       "      <td>en</td>\n",
       "      <td>80.773</td>\n",
       "      <td>8.3</td>\n",
       "      <td>13948</td>\n",
       "      <td>4</td>\n",
       "      <td>2018</td>\n",
       "      <td>1748134200</td>\n",
       "      <td>high</td>\n",
       "      <td>85.35</td>\n",
       "    </tr>\n",
       "    <tr>\n",
       "      <th>5</th>\n",
       "      <td>9</td>\n",
       "      <td>Justice League</td>\n",
       "      <td>300000000</td>\n",
       "      <td>229024295</td>\n",
       "      <td>655945209</td>\n",
       "      <td>28, 12, 14, 878</td>\n",
       "      <td>en</td>\n",
       "      <td>34.953</td>\n",
       "      <td>6.2</td>\n",
       "      <td>7510</td>\n",
       "      <td>11</td>\n",
       "      <td>2017</td>\n",
       "      <td>355945209</td>\n",
       "      <td>high</td>\n",
       "      <td>54.26</td>\n",
       "    </tr>\n",
       "  </tbody>\n",
       "</table>\n",
       "</div>"
      ],
      "text/plain": [
       "   id                                        movie  production_budget  \\\n",
       "0   1                                       Avatar          425000000   \n",
       "1   2  Pirates of the Caribbean: On Stranger Tides          410600000   \n",
       "2   4                      Avengers: Age of Ultron          330600000   \n",
       "3   7                       Avengers: Infinity War          300000000   \n",
       "5   9                               Justice League          300000000   \n",
       "\n",
       "   domestic_gross  worldwide_gross        genre_ids original_language  \\\n",
       "0       760507625       2776345279  28, 12, 14, 878                en   \n",
       "1       241063875       1045663875       12, 28, 14                en   \n",
       "2       459005868       1403013963      28, 12, 878                en   \n",
       "3       678815482       2048134200       12, 28, 14                en   \n",
       "5       229024295        655945209  28, 12, 14, 878                en   \n",
       "\n",
       "   popularity  vote_average  vote_count  release_month  release_year  \\\n",
       "0      26.526           7.4       18676             12          2009   \n",
       "1      30.579           6.4        8571              5          2011   \n",
       "2      44.383           7.3       13457              5          2015   \n",
       "3      80.773           8.3       13948              4          2018   \n",
       "5      34.953           6.2        7510             11          2017   \n",
       "\n",
       "   net_profit budget  profit_margin  \n",
       "0  2351345279   high          84.69  \n",
       "1   635063875   high          60.73  \n",
       "2  1072413963   high          76.44  \n",
       "3  1748134200   high          85.35  \n",
       "5   355945209   high          54.26  "
      ]
     },
     "execution_count": 64,
     "metadata": {},
     "output_type": "execute_result"
    }
   ],
   "source": [
    "merged_df.head()"
   ]
  },
  {
   "cell_type": "code",
   "execution_count": 65,
   "metadata": {},
   "outputs": [],
   "source": [
    "\n",
    "\n",
    "\n",
    "\n",
    "# Define the genre dictionary\n",
    "gen_dict = {'28': 'Action', '12': 'Adventure', '16': 'Animation', '35': 'Comedy', '80': 'Crime',\n",
    "            '99': 'Documentary', '18': 'Drama', '10751': 'Family', '14': 'Fantasy', '36': 'History',\n",
    "            '27': 'Horror', '10402': 'Music', '9648': 'Mystery', '10749': 'Romance', '878': 'Science Fiction',\n",
    "            '10770': 'TV Movie', '53': 'Thriller', '10752': 'War', '37': 'Western'}\n",
    "\n",
    "def genre_names(x):\n",
    "    try:  \n",
    "        st = str(x)\n",
    "        names = st.split(',')\n",
    "        names_list = []\n",
    "        for name in names:\n",
    "            na_strip = name.strip()\n",
    "            na = gen_dict[na_strip]\n",
    "            names_list.append(na)\n",
    "        return names_list\n",
    "    except: \n",
    "       return None \n",
    "\n",
    "# Apply the conversion to create a new column 'genres' with string values from 'genre_ids'\n",
    "#merged_df['genres'] = merged_df['genres'].apply(lambda x: ', '.join(gen_dict.get(id, '') for id in x.split(', ')))\n",
    "\n",
    "\n"
   ]
  },
  {
   "cell_type": "code",
   "execution_count": 66,
   "metadata": {},
   "outputs": [],
   "source": [
    "merged_df['genres'] = merged_df['genre_ids'].apply(lambda x: genre_names(x))"
   ]
  },
  {
   "cell_type": "code",
   "execution_count": 67,
   "metadata": {},
   "outputs": [
    {
     "data": {
      "text/html": [
       "<div>\n",
       "<style scoped>\n",
       "    .dataframe tbody tr th:only-of-type {\n",
       "        vertical-align: middle;\n",
       "    }\n",
       "\n",
       "    .dataframe tbody tr th {\n",
       "        vertical-align: top;\n",
       "    }\n",
       "\n",
       "    .dataframe thead th {\n",
       "        text-align: right;\n",
       "    }\n",
       "</style>\n",
       "<table border=\"1\" class=\"dataframe\">\n",
       "  <thead>\n",
       "    <tr style=\"text-align: right;\">\n",
       "      <th></th>\n",
       "      <th>id</th>\n",
       "      <th>movie</th>\n",
       "      <th>production_budget</th>\n",
       "      <th>domestic_gross</th>\n",
       "      <th>worldwide_gross</th>\n",
       "      <th>genre_ids</th>\n",
       "      <th>original_language</th>\n",
       "      <th>popularity</th>\n",
       "      <th>vote_average</th>\n",
       "      <th>vote_count</th>\n",
       "      <th>release_month</th>\n",
       "      <th>release_year</th>\n",
       "      <th>net_profit</th>\n",
       "      <th>budget</th>\n",
       "      <th>profit_margin</th>\n",
       "      <th>genres</th>\n",
       "    </tr>\n",
       "  </thead>\n",
       "  <tbody>\n",
       "    <tr>\n",
       "      <th>0</th>\n",
       "      <td>1</td>\n",
       "      <td>Avatar</td>\n",
       "      <td>425000000</td>\n",
       "      <td>760507625</td>\n",
       "      <td>2776345279</td>\n",
       "      <td>28, 12, 14, 878</td>\n",
       "      <td>en</td>\n",
       "      <td>26.526</td>\n",
       "      <td>7.4</td>\n",
       "      <td>18676</td>\n",
       "      <td>12</td>\n",
       "      <td>2009</td>\n",
       "      <td>2351345279</td>\n",
       "      <td>high</td>\n",
       "      <td>84.69</td>\n",
       "      <td>[Action, Adventure, Fantasy, Science Fiction]</td>\n",
       "    </tr>\n",
       "    <tr>\n",
       "      <th>1</th>\n",
       "      <td>2</td>\n",
       "      <td>Pirates of the Caribbean: On Stranger Tides</td>\n",
       "      <td>410600000</td>\n",
       "      <td>241063875</td>\n",
       "      <td>1045663875</td>\n",
       "      <td>12, 28, 14</td>\n",
       "      <td>en</td>\n",
       "      <td>30.579</td>\n",
       "      <td>6.4</td>\n",
       "      <td>8571</td>\n",
       "      <td>5</td>\n",
       "      <td>2011</td>\n",
       "      <td>635063875</td>\n",
       "      <td>high</td>\n",
       "      <td>60.73</td>\n",
       "      <td>[Adventure, Action, Fantasy]</td>\n",
       "    </tr>\n",
       "    <tr>\n",
       "      <th>2</th>\n",
       "      <td>4</td>\n",
       "      <td>Avengers: Age of Ultron</td>\n",
       "      <td>330600000</td>\n",
       "      <td>459005868</td>\n",
       "      <td>1403013963</td>\n",
       "      <td>28, 12, 878</td>\n",
       "      <td>en</td>\n",
       "      <td>44.383</td>\n",
       "      <td>7.3</td>\n",
       "      <td>13457</td>\n",
       "      <td>5</td>\n",
       "      <td>2015</td>\n",
       "      <td>1072413963</td>\n",
       "      <td>high</td>\n",
       "      <td>76.44</td>\n",
       "      <td>[Action, Adventure, Science Fiction]</td>\n",
       "    </tr>\n",
       "    <tr>\n",
       "      <th>3</th>\n",
       "      <td>7</td>\n",
       "      <td>Avengers: Infinity War</td>\n",
       "      <td>300000000</td>\n",
       "      <td>678815482</td>\n",
       "      <td>2048134200</td>\n",
       "      <td>12, 28, 14</td>\n",
       "      <td>en</td>\n",
       "      <td>80.773</td>\n",
       "      <td>8.3</td>\n",
       "      <td>13948</td>\n",
       "      <td>4</td>\n",
       "      <td>2018</td>\n",
       "      <td>1748134200</td>\n",
       "      <td>high</td>\n",
       "      <td>85.35</td>\n",
       "      <td>[Adventure, Action, Fantasy]</td>\n",
       "    </tr>\n",
       "    <tr>\n",
       "      <th>5</th>\n",
       "      <td>9</td>\n",
       "      <td>Justice League</td>\n",
       "      <td>300000000</td>\n",
       "      <td>229024295</td>\n",
       "      <td>655945209</td>\n",
       "      <td>28, 12, 14, 878</td>\n",
       "      <td>en</td>\n",
       "      <td>34.953</td>\n",
       "      <td>6.2</td>\n",
       "      <td>7510</td>\n",
       "      <td>11</td>\n",
       "      <td>2017</td>\n",
       "      <td>355945209</td>\n",
       "      <td>high</td>\n",
       "      <td>54.26</td>\n",
       "      <td>[Action, Adventure, Fantasy, Science Fiction]</td>\n",
       "    </tr>\n",
       "  </tbody>\n",
       "</table>\n",
       "</div>"
      ],
      "text/plain": [
       "   id                                        movie  production_budget  \\\n",
       "0   1                                       Avatar          425000000   \n",
       "1   2  Pirates of the Caribbean: On Stranger Tides          410600000   \n",
       "2   4                      Avengers: Age of Ultron          330600000   \n",
       "3   7                       Avengers: Infinity War          300000000   \n",
       "5   9                               Justice League          300000000   \n",
       "\n",
       "   domestic_gross  worldwide_gross        genre_ids original_language  \\\n",
       "0       760507625       2776345279  28, 12, 14, 878                en   \n",
       "1       241063875       1045663875       12, 28, 14                en   \n",
       "2       459005868       1403013963      28, 12, 878                en   \n",
       "3       678815482       2048134200       12, 28, 14                en   \n",
       "5       229024295        655945209  28, 12, 14, 878                en   \n",
       "\n",
       "   popularity  vote_average  vote_count  release_month  release_year  \\\n",
       "0      26.526           7.4       18676             12          2009   \n",
       "1      30.579           6.4        8571              5          2011   \n",
       "2      44.383           7.3       13457              5          2015   \n",
       "3      80.773           8.3       13948              4          2018   \n",
       "5      34.953           6.2        7510             11          2017   \n",
       "\n",
       "   net_profit budget  profit_margin  \\\n",
       "0  2351345279   high          84.69   \n",
       "1   635063875   high          60.73   \n",
       "2  1072413963   high          76.44   \n",
       "3  1748134200   high          85.35   \n",
       "5   355945209   high          54.26   \n",
       "\n",
       "                                          genres  \n",
       "0  [Action, Adventure, Fantasy, Science Fiction]  \n",
       "1                   [Adventure, Action, Fantasy]  \n",
       "2           [Action, Adventure, Science Fiction]  \n",
       "3                   [Adventure, Action, Fantasy]  \n",
       "5  [Action, Adventure, Fantasy, Science Fiction]  "
      ]
     },
     "execution_count": 67,
     "metadata": {},
     "output_type": "execute_result"
    }
   ],
   "source": [
    "merged_df.head()"
   ]
  },
  {
   "cell_type": "code",
   "execution_count": 68,
   "metadata": {},
   "outputs": [],
   "source": [
    "merged_df.dropna(subset='genres', inplace=True)"
   ]
  },
  {
   "cell_type": "code",
   "execution_count": 69,
   "metadata": {},
   "outputs": [
    {
     "name": "stdout",
     "output_type": "stream",
     "text": [
      "<class 'pandas.core.frame.DataFrame'>\n",
      "Index: 1891 entries, 0 to 2384\n",
      "Data columns (total 16 columns):\n",
      " #   Column             Non-Null Count  Dtype  \n",
      "---  ------             --------------  -----  \n",
      " 0   id                 1891 non-null   int64  \n",
      " 1   movie              1891 non-null   object \n",
      " 2   production_budget  1891 non-null   int64  \n",
      " 3   domestic_gross     1891 non-null   int64  \n",
      " 4   worldwide_gross    1891 non-null   int64  \n",
      " 5   genre_ids          1891 non-null   object \n",
      " 6   original_language  1891 non-null   object \n",
      " 7   popularity         1891 non-null   float64\n",
      " 8   vote_average       1891 non-null   float64\n",
      " 9   vote_count         1891 non-null   int64  \n",
      " 10  release_month      1891 non-null   int32  \n",
      " 11  release_year       1891 non-null   int32  \n",
      " 12  net_profit         1891 non-null   int64  \n",
      " 13  budget             1891 non-null   object \n",
      " 14  profit_margin      1891 non-null   float64\n",
      " 15  genres             1891 non-null   object \n",
      "dtypes: float64(3), int32(2), int64(6), object(5)\n",
      "memory usage: 236.4+ KB\n"
     ]
    }
   ],
   "source": [
    "merged_df.info()"
   ]
  },
  {
   "cell_type": "code",
   "execution_count": 70,
   "metadata": {},
   "outputs": [],
   "source": [
    "def make_action(i, genre):\n",
    "    if (genre) in i:\n",
    "        return 1\n",
    "    else: \n",
    "        return 0\n",
    "\n"
   ]
  },
  {
   "cell_type": "code",
   "execution_count": 71,
   "metadata": {},
   "outputs": [],
   "source": [
    "#merged_df['Action'] = merged_df['genres'].apply(lambda x: make_action(x))\n",
    "merged_df['Adventure'] = merged_df['genres'].apply(lambda x: make_action(x, 'Adventure'))\n"
   ]
  },
  {
   "cell_type": "code",
   "execution_count": 72,
   "metadata": {},
   "outputs": [],
   "source": [
    "genres = list(gen_dict.values())\n",
    "genres\n",
    "\n",
    "for genre in genres: \n",
    "    merged_df[genre] = merged_df['genres'].apply(lambda x: make_action(x, genre))"
   ]
  },
  {
   "cell_type": "code",
   "execution_count": 73,
   "metadata": {},
   "outputs": [
    {
     "data": {
      "text/html": [
       "<div>\n",
       "<style scoped>\n",
       "    .dataframe tbody tr th:only-of-type {\n",
       "        vertical-align: middle;\n",
       "    }\n",
       "\n",
       "    .dataframe tbody tr th {\n",
       "        vertical-align: top;\n",
       "    }\n",
       "\n",
       "    .dataframe thead th {\n",
       "        text-align: right;\n",
       "    }\n",
       "</style>\n",
       "<table border=\"1\" class=\"dataframe\">\n",
       "  <thead>\n",
       "    <tr style=\"text-align: right;\">\n",
       "      <th></th>\n",
       "      <th>Action</th>\n",
       "      <th>Adventure</th>\n",
       "      <th>Animation</th>\n",
       "      <th>Comedy</th>\n",
       "      <th>Crime</th>\n",
       "      <th>Documentary</th>\n",
       "      <th>Drama</th>\n",
       "      <th>Family</th>\n",
       "      <th>Fantasy</th>\n",
       "      <th>History</th>\n",
       "      <th>Horror</th>\n",
       "      <th>Music</th>\n",
       "      <th>Mystery</th>\n",
       "      <th>Romance</th>\n",
       "      <th>Science Fiction</th>\n",
       "      <th>TV Movie</th>\n",
       "      <th>Thriller</th>\n",
       "      <th>War</th>\n",
       "      <th>Western</th>\n",
       "    </tr>\n",
       "    <tr>\n",
       "      <th>budget</th>\n",
       "      <th></th>\n",
       "      <th></th>\n",
       "      <th></th>\n",
       "      <th></th>\n",
       "      <th></th>\n",
       "      <th></th>\n",
       "      <th></th>\n",
       "      <th></th>\n",
       "      <th></th>\n",
       "      <th></th>\n",
       "      <th></th>\n",
       "      <th></th>\n",
       "      <th></th>\n",
       "      <th></th>\n",
       "      <th></th>\n",
       "      <th></th>\n",
       "      <th></th>\n",
       "      <th></th>\n",
       "      <th></th>\n",
       "    </tr>\n",
       "  </thead>\n",
       "  <tbody>\n",
       "    <tr>\n",
       "      <th>high</th>\n",
       "      <td>232</td>\n",
       "      <td>215</td>\n",
       "      <td>86</td>\n",
       "      <td>142</td>\n",
       "      <td>44</td>\n",
       "      <td>9</td>\n",
       "      <td>126</td>\n",
       "      <td>113</td>\n",
       "      <td>115</td>\n",
       "      <td>16</td>\n",
       "      <td>28</td>\n",
       "      <td>8</td>\n",
       "      <td>27</td>\n",
       "      <td>33</td>\n",
       "      <td>109</td>\n",
       "      <td>3</td>\n",
       "      <td>111</td>\n",
       "      <td>17</td>\n",
       "      <td>8</td>\n",
       "    </tr>\n",
       "    <tr>\n",
       "      <th>low</th>\n",
       "      <td>44</td>\n",
       "      <td>22</td>\n",
       "      <td>8</td>\n",
       "      <td>106</td>\n",
       "      <td>37</td>\n",
       "      <td>41</td>\n",
       "      <td>221</td>\n",
       "      <td>15</td>\n",
       "      <td>18</td>\n",
       "      <td>4</td>\n",
       "      <td>112</td>\n",
       "      <td>10</td>\n",
       "      <td>41</td>\n",
       "      <td>56</td>\n",
       "      <td>37</td>\n",
       "      <td>4</td>\n",
       "      <td>134</td>\n",
       "      <td>6</td>\n",
       "      <td>7</td>\n",
       "    </tr>\n",
       "    <tr>\n",
       "      <th>mid</th>\n",
       "      <td>196</td>\n",
       "      <td>69</td>\n",
       "      <td>29</td>\n",
       "      <td>336</td>\n",
       "      <td>164</td>\n",
       "      <td>23</td>\n",
       "      <td>522</td>\n",
       "      <td>62</td>\n",
       "      <td>46</td>\n",
       "      <td>54</td>\n",
       "      <td>120</td>\n",
       "      <td>33</td>\n",
       "      <td>73</td>\n",
       "      <td>149</td>\n",
       "      <td>73</td>\n",
       "      <td>2</td>\n",
       "      <td>282</td>\n",
       "      <td>29</td>\n",
       "      <td>8</td>\n",
       "    </tr>\n",
       "  </tbody>\n",
       "</table>\n",
       "</div>"
      ],
      "text/plain": [
       "        Action  Adventure  Animation  Comedy  Crime  Documentary  Drama  \\\n",
       "budget                                                                    \n",
       "high       232        215         86     142     44            9    126   \n",
       "low         44         22          8     106     37           41    221   \n",
       "mid        196         69         29     336    164           23    522   \n",
       "\n",
       "        Family  Fantasy  History  Horror  Music  Mystery  Romance  \\\n",
       "budget                                                              \n",
       "high       113      115       16      28      8       27       33   \n",
       "low         15       18        4     112     10       41       56   \n",
       "mid         62       46       54     120     33       73      149   \n",
       "\n",
       "        Science Fiction  TV Movie  Thriller  War  Western  \n",
       "budget                                                     \n",
       "high                109         3       111   17        8  \n",
       "low                  37         4       134    6        7  \n",
       "mid                  73         2       282   29        8  "
      ]
     },
     "execution_count": 73,
     "metadata": {},
     "output_type": "execute_result"
    }
   ],
   "source": [
    "#Looking at which genres appear most in each budget range  \n",
    "merged_df.groupby('budget')[genres].sum()"
   ]
  },
  {
   "cell_type": "code",
   "execution_count": 74,
   "metadata": {},
   "outputs": [],
   "source": [
    "#create budget dataframes\n",
    "high_df = merged_df[merged_df['budget'] == 'high']\n",
    "mid_df = merged_df[merged_df['budget'] == 'mid']\n",
    "low_df = merged_df[merged_df['budget'] == 'low']"
   ]
  },
  {
   "cell_type": "code",
   "execution_count": 75,
   "metadata": {},
   "outputs": [
    {
     "data": {
      "text/plain": [
       "genres\n",
       "[Action, Adventure, Science Fiction]             6\n",
       "[Action, Adventure, Fantasy]                     6\n",
       "[Action, Adventure, Fantasy, Science Fiction]    5\n",
       "[Action, Science Fiction, Adventure]             3\n",
       "[Animation, Family, Comedy]                      3\n",
       "[Adventure, Action, Science Fiction]             3\n",
       "[Adventure, Fantasy, Action]                     2\n",
       "[Action, Crime, Drama, Thriller]                 2\n",
       "[Documentary]                                    2\n",
       "[Action, Adventure, Comedy, Fantasy]             2\n",
       "[Animation, Comedy, Family]                      2\n",
       "[Adventure, Action, Fantasy]                     2\n",
       "[Action, Crime, Thriller]                        2\n",
       "[Animation, Family]                              2\n",
       "[Action, Thriller, Crime]                        1\n",
       "Name: count, dtype: int64"
      ]
     },
     "execution_count": 75,
     "metadata": {},
     "output_type": "execute_result"
    }
   ],
   "source": [
    "#calculate which genre groups are best in high budget by looking at top net_profits\n",
    "top_net_high = high_df.sort_values('net_profit', ascending=False)[:100]\n",
    "top_net_high['genres'].value_counts()[:15]"
   ]
  },
  {
   "cell_type": "code",
   "execution_count": 76,
   "metadata": {},
   "outputs": [
    {
     "data": {
      "text/plain": [
       "[('TV Movie', -5328087),\n",
       " ('History', 56417857),\n",
       " ('Horror', 114314022),\n",
       " ('Western', 124433113),\n",
       " ('Romance', 132359307),\n",
       " ('Mystery', 143855669),\n",
       " ('Music', 146386764),\n",
       " ('War', 149279833),\n",
       " ('Drama', 163992132),\n",
       " ('Documentary', 169138219),\n",
       " ('Thriller', 176097808),\n",
       " ('Crime', 207923921),\n",
       " ('Comedy', 242712354),\n",
       " ('Action', 283110830),\n",
       " ('Family', 283904633),\n",
       " ('Fantasy', 290206880),\n",
       " ('Science Fiction', 322883242),\n",
       " ('Adventure', 328536649),\n",
       " ('Animation', 334292676)]"
      ]
     },
     "execution_count": 76,
     "metadata": {},
     "output_type": "execute_result"
    }
   ],
   "source": [
    "#calculate average net profits for each genre tag in high budget category\n",
    "high_np_counts = {}\n",
    "\n",
    "def get_mean_np(genre, df):\n",
    "    new_df = df[df[genre] == 1]\n",
    "    ave_np = new_df['net_profit'].mean()\n",
    "    high_np_counts[genre] = int(ave_np)\n",
    "    return int(ave_np)\n",
    "\n",
    "for genre in genres: \n",
    "    get_mean_np(genre, high_df)\n",
    "\n",
    "(sorted(high_np_counts.items(), key=lambda x: x[1]))\n"
   ]
  },
  {
   "cell_type": "code",
   "execution_count": 77,
   "metadata": {},
   "outputs": [
    {
     "data": {
      "text/plain": [
       "genres\n",
       "[Drama]                      7\n",
       "[Comedy]                     6\n",
       "[Comedy, Romance]            5\n",
       "[Horror]                     4\n",
       "[Drama, Romance]             3\n",
       "[Drama, Comedy]              3\n",
       "[Action, Comedy, Crime]      3\n",
       "[Comedy, Crime]              3\n",
       "[Drama, History]             3\n",
       "[Action, Crime, Thriller]    2\n",
       "[Comedy, Drama]              2\n",
       "[Drama, Thriller]            2\n",
       "[Comedy, Music]              2\n",
       "[Thriller, Drama]            2\n",
       "[Comedy, Drama, Romance]     2\n",
       "Name: count, dtype: int64"
      ]
     },
     "execution_count": 77,
     "metadata": {},
     "output_type": "execute_result"
    }
   ],
   "source": [
    "#calculate which genre groups are best in mid budget by looking at top net_profits\n",
    "top_net_mid = mid_df.sort_values('net_profit', ascending=False)[:100]\n",
    "top_net_mid['genres'].value_counts()[:15]"
   ]
  },
  {
   "cell_type": "code",
   "execution_count": 78,
   "metadata": {},
   "outputs": [
    {
     "data": {
      "text/plain": [
       "[('Western', 14450654),\n",
       " ('Documentary', 14592254),\n",
       " ('War', 24718167),\n",
       " ('History', 26712004),\n",
       " ('Crime', 29058464),\n",
       " ('Drama', 31777149),\n",
       " ('Adventure', 32400095),\n",
       " ('Thriller', 36084871),\n",
       " ('Action', 38683955),\n",
       " ('Mystery', 40748378),\n",
       " ('Music', 44627847),\n",
       " ('Comedy', 46198752),\n",
       " ('Animation', 48140471),\n",
       " ('Science Fiction', 50709519),\n",
       " ('Romance', 51230328),\n",
       " ('Fantasy', 51711031),\n",
       " ('Horror', 53353449),\n",
       " ('Family', 58880242),\n",
       " ('TV Movie', 64911219)]"
      ]
     },
     "execution_count": 78,
     "metadata": {},
     "output_type": "execute_result"
    }
   ],
   "source": [
    "#calculate average net profits for each genre tag in mid budget category\n",
    "mid_np_counts = {}\n",
    "\n",
    "def get_mean_np(genre, df):\n",
    "    new_df = df[df[genre] == 1]\n",
    "    ave_np = new_df['net_profit'].mean()\n",
    "    mid_np_counts[genre] = int(ave_np)\n",
    "    return int(ave_np)\n",
    "\n",
    "for genre in genres: \n",
    "    get_mean_np(genre, mid_df)\n",
    "\n",
    "(sorted(mid_np_counts.items(), key=lambda x: x[1]))"
   ]
  },
  {
   "cell_type": "code",
   "execution_count": 79,
   "metadata": {},
   "outputs": [
    {
     "data": {
      "text/plain": [
       "genres\n",
       "[Drama]                              15\n",
       "[Horror, Thriller]                    8\n",
       "[Comedy, Drama]                       5\n",
       "[Drama, Romance]                      5\n",
       "[Horror]                              4\n",
       "[Thriller, Horror]                    3\n",
       "[Comedy, Horror]                      3\n",
       "[Documentary]                         3\n",
       "[Comedy, Documentary]                 2\n",
       "[Horror, Thriller, Mystery]           2\n",
       "[Drama, Horror]                       2\n",
       "[Drama, Romance, Comedy]              2\n",
       "[Drama, Thriller]                     2\n",
       "[Drama, Music, Romance, Comedy]       1\n",
       "[Romance, Fantasy, Family, Drama]     1\n",
       "Name: count, dtype: int64"
      ]
     },
     "execution_count": 79,
     "metadata": {},
     "output_type": "execute_result"
    }
   ],
   "source": [
    "#calculate which genre groups are best in low budget by looking at top net_profits\n",
    "top_net_low = low_df.sort_values('net_profit', ascending=False)[:100]\n",
    "top_net_low['genres'].value_counts()[:15]"
   ]
  },
  {
   "cell_type": "code",
   "execution_count": 80,
   "metadata": {},
   "outputs": [
    {
     "data": {
      "text/plain": [
       "[('Western', -715551),\n",
       " ('Action', -340436),\n",
       " ('Animation', 986629),\n",
       " ('Documentary', 1076981),\n",
       " ('TV Movie', 1412500),\n",
       " ('Adventure', 1859364),\n",
       " ('Comedy', 2029479),\n",
       " ('Crime', 2789845),\n",
       " ('War', 2913631),\n",
       " ('History', 4063101),\n",
       " ('Drama', 4687023),\n",
       " ('Music', 5288701),\n",
       " ('Science Fiction', 6309985),\n",
       " ('Mystery', 7909698),\n",
       " ('Romance', 8014612),\n",
       " ('Thriller', 8573673),\n",
       " ('Horror', 12380404),\n",
       " ('Fantasy', 19685560),\n",
       " ('Family', 20922073)]"
      ]
     },
     "execution_count": 80,
     "metadata": {},
     "output_type": "execute_result"
    }
   ],
   "source": [
    "#calculate average net profits for each genre tag in low budget category\n",
    "low_np_counts = {}\n",
    "\n",
    "def get_mean_np(genre, df):\n",
    "    new_df = df[df[genre] == 1]\n",
    "    ave_np = new_df['net_profit'].mean()\n",
    "    low_np_counts[genre] = int(ave_np)\n",
    "    return int(ave_np)\n",
    "\n",
    "for genre in genres: \n",
    "    get_mean_np(genre, low_df)\n",
    "\n",
    "(sorted(low_np_counts.items(), key=lambda x: x[1]))"
   ]
  },
  {
   "cell_type": "code",
   "execution_count": 104,
   "metadata": {},
   "outputs": [
    {
     "data": {
      "image/png": "[encoded data removed]",
      "text/plain": [
       "<Figure size 1152x864 with 1 Axes>"
      ]
     },
     "metadata": {
      "needs_background": "light"
     },
     "output_type": "display_data"
    }
   ],
   "source": [
    "# Show the best month to release high budget movies\n",
    "\n",
    "high_monthly = high_df.groupby('release_month')['net_profit'].mean()\n",
    "\n",
    "x=high_monthly.index\n",
    "height=high_monthly.values\n",
    "\n",
    "fig, ax = plt.subplots(figsize=(16, 12))\n",
    "\n",
    "ax.bar(x, height)\n",
    "ax.set_title(\"Average Net Profits by Release Month for High-Budget Movies\", fontsize=22)\n",
    "ax.set_ylabel(\"Average Net Profits\", fontsize=16)\n",
    "ax.set_xlabel(\"Release Month\", fontsize=16)\n",
    "ax.set_xticks(range(1,13))\n",
    "ax.set_xticklabels(list('JFMAMJJASOND'));\n",
    "ax.yaxis.set_major_formatter(ticker.StrMethodFormatter('${x:,.0f}'))\n",
    "\n",
    "plt.tight_layout()\n"
   ]
  },
  {
   "cell_type": "code",
   "execution_count": 105,
   "metadata": {},
   "outputs": [
    {
     "data": {
      "image/png": "[encoded data removed]",
      "text/plain": [
       "<Figure size 1152x864 with 1 Axes>"
      ]
     },
     "metadata": {
      "needs_background": "light"
     },
     "output_type": "display_data"
    }
   ],
   "source": [
    "# Show the best month to release mid budget movies\n",
    "\n",
    "mid_monthly = mid_df.groupby('release_month')['net_profit'].mean()\n",
    "\n",
    "x=mid_monthly.index\n",
    "height=mid_monthly.values\n",
    "\n",
    "fig, ax = plt.subplots(figsize=(16, 12))\n",
    "\n",
    "ax.bar(x, height)\n",
    "ax.set_title(\"Average Net Profits by Release Month for Mid-Budget Movies\", fontsize=22)\n",
    "ax.set_ylabel(\"Average Net Profits\", fontsize=16)\n",
    "ax.set_xlabel(\"Release Month\", fontsize=16)\n",
    "ax.set_xticks(range(1,13))\n",
    "ax.set_xticklabels(list('JFMAMJJASOND'));\n",
    "ax.yaxis.set_major_formatter(ticker.StrMethodFormatter('${x:,.0f}'))\n",
    "\n",
    "plt.tight_layout()"
   ]
  },
  {
   "cell_type": "code",
   "execution_count": 106,
   "metadata": {},
   "outputs": [
    {
     "data": {
      "image/png": "[encoded data removed]",
      "text/plain": [
       "<Figure size 1152x864 with 1 Axes>"
      ]
     },
     "metadata": {
      "needs_background": "light"
     },
     "output_type": "display_data"
    }
   ],
   "source": [
    "# Show the best month to release low budget movies\n",
    "\n",
    "low_monthly = low_df.groupby('release_month')['net_profit'].mean()\n",
    "\n",
    "x=low_monthly.index\n",
    "height=low_monthly.values\n",
    "\n",
    "fig, ax = plt.subplots(figsize=(16, 12))\n",
    "\n",
    "ax.bar(x, height)\n",
    "ax.set_title(\"Average Net Profits by Release Month for Low-Budget Movies\", fontsize=22)\n",
    "ax.set_ylabel(\"Average Net Profits\", fontsize=16)\n",
    "ax.set_xlabel(\"Release Month\", fontsize=16)\n",
    "ax.set_xticks(range(1,13))\n",
    "ax.set_xticklabels(list('JFMAMJJASOND'));\n",
    "ax.yaxis.set_major_formatter(ticker.StrMethodFormatter('${x:,.0f}'))\n",
    "\n",
    "plt.tight_layout()"
   ]
  },
  {
   "attachments": {},
   "cell_type": "markdown",
   "metadata": {},
   "source": [
    "# Conclusion/Findings"
   ]
  },
  {
   "attachments": {},
   "cell_type": "markdown",
   "metadata": {},
   "source": []
  }
 ],
 "metadata": {
  "kernelspec": {
   "display_name": "Python 3",
   "language": "python",
   "name": "python3"
  },
  "language_info": {
   "codemirror_mode": {
    "name": "ipython",
    "version": 3
   },
   "file_extension": ".py",
   "mimetype": "text/x-python",
   "name": "python",
   "nbconvert_exporter": "python",
   "pygments_lexer": "ipython3",
   "version": "3.8.5"
  }
 },
 "nbformat": 4,
 "nbformat_minor": 4
}
