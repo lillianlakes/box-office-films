{
 "cells": [
  {
   "attachments": {},
   "cell_type": "markdown",
   "metadata": {},
   "source": [
    "# **Movie Analysis Notebook**"
   ]
  },
  {
   "cell_type": "code",
   "execution_count": 114,
   "metadata": {},
   "outputs": [],
   "source": [
    "import pandas as pd\n",
    "import numpy as np\n",
    "import matplotlib.pyplot as plt\n",
    "import matplotlib.ticker as ticker\n",
    "import seaborn as sns\n",
    "from scipy import stats\n",
    "import statsmodels.api as sm\n",
    "from sklearn.metrics import mean_squared_error\n",
    "from sklearn.linear_model import LinearRegression\n",
    "import math\n",
    "import sqlite3\n",
    "import zipfile\n",
    "import warnings\n",
    "warnings.filterwarnings('ignore')"
   ]
  },
  {
   "cell_type": "code",
   "execution_count": 115,
   "metadata": {},
   "outputs": [],
   "source": [
    "movie = pd.read_csv('zippedData/tmdb.movies.csv.gz')\n",
    "movie_info = pd.read_csv('zippedData/rt.movie_info.tsv.gz',sep='\\t', compression='gzip')\n",
    "movie_review = pd.read_csv('zippedData/rt.reviews.tsv.gz', sep='\\t', encoding='latin1')\n",
    "movie_gross = pd.read_csv('zippedData/bom.movie_gross.csv.gz')\n",
    "movie_budget = pd.read_csv('zippedData/tn.movie_budgets.csv.gz')\n",
    "conn = sqlite3.connect('im.db.zip')"
   ]
  },
  {
   "cell_type": "code",
   "execution_count": 116,
   "metadata": {},
   "outputs": [],
   "source": [
    "#specify the path to the zip file\n",
    "zip_file_path = 'zippedData/im.db.zip'\n",
    "\n",
    "#Extract the SQLite database file from the zip file\n",
    "with zipfile.ZipFile(zip_file_path, 'r') as zip_ref:\n",
    "    zip_ref.extractall('unzippedData')\n",
    "\n",
    "#connect to extracted SQLite database\n",
    "database_path = 'unzippedData/im.db'\n",
    "conn = sqlite3.connect(database_path)"
   ]
  },
  {
   "attachments": {},
   "cell_type": "markdown",
   "metadata": {},
   "source": [
    "## **Exploratory Data Analysis (EDA)**"
   ]
  },
  {
   "attachments": {},
   "cell_type": "markdown",
   "metadata": {},
   "source": [
    "### **Movie DF EDA**"
   ]
  },
  {
   "cell_type": "code",
   "execution_count": 117,
   "metadata": {},
   "outputs": [],
   "source": [
    "# drop the 'Unnamed: 0' column from the movie dataframe\n",
    "movie.drop('Unnamed: 0', axis=1, inplace=True)"
   ]
  },
  {
   "cell_type": "code",
   "execution_count": 118,
   "metadata": {},
   "outputs": [],
   "source": [
    "# convert release_date to datetime and filter for movies\n",
    "movie['release_date'] = pd.to_datetime(movie['release_date'])\n",
    "\n",
    "# create a new column called release month that takes the month from release_date\n",
    "movie['release_month'] = movie['release_date'].dt.month\n",
    "\n",
    "# create a column called release_year and take just the year from release_date\n",
    "movie['release_year'] = pd.to_datetime(movie['release_date']).dt.year\n",
    "\n",
    "# drop the release_date column\n",
    "movie.drop('release_date', axis=1, inplace=True)"
   ]
  },
  {
   "attachments": {},
   "cell_type": "markdown",
   "metadata": {},
   "source": [
    "### **Movie_Budget EDA**"
   ]
  },
  {
   "cell_type": "code",
   "execution_count": 119,
   "metadata": {},
   "outputs": [],
   "source": [
    "# convert release_date to datetime format\n",
    "movie_budget['release_date'] = pd.to_datetime(movie_budget['release_date'])\n",
    "\n",
    "# create new columns release_year and release_month\n",
    "movie_budget['release_year'] = movie_budget['release_date'].dt.year\n",
    "movie_budget['release_month'] = movie_budget['release_date'].dt.month\n",
    "\n",
    "# drop release_date column from movie_budget dataframe\n",
    "movie_budget.drop('release_date', axis=1, inplace=True)\n",
    "\n",
    "# convert production_budget, domestic_gross, and worldwide_gross to numerical values\n",
    "movie_budget['production_budget'] = pd.to_numeric(movie_budget['production_budget'].str.replace('$','').str.replace(',',''), errors='coerce')\n",
    "movie_budget['domestic_gross'] = pd.to_numeric(movie_budget['domestic_gross'].str.replace('$','').str.replace(',',''), errors='coerce')\n",
    "movie_budget['worldwide_gross'] = pd.to_numeric(movie_budget['worldwide_gross'].str.replace('$','').str.replace(',',''), errors='coerce')"
   ]
  },
  {
   "attachments": {},
   "cell_type": "markdown",
   "metadata": {},
   "source": [
    "### **Merging Movie and Movie_Budget**"
   ]
  },
  {
   "cell_type": "code",
   "execution_count": 120,
   "metadata": {},
   "outputs": [],
   "source": [
    "# merge movie_budget and movie dataframes using 'movie' and 'title' columns respectively\n",
    "merged_df = pd.merge(movie_budget, movie, left_on='movie', right_on='title')"
   ]
  },
  {
   "cell_type": "code",
   "execution_count": 121,
   "metadata": {},
   "outputs": [
    {
     "name": "stdout",
     "output_type": "stream",
     "text": [
      "<class 'pandas.core.frame.DataFrame'>\n",
      "RangeIndex: 2385 entries, 0 to 2384\n",
      "Data columns (total 17 columns):\n",
      " #   Column             Non-Null Count  Dtype  \n",
      "---  ------             --------------  -----  \n",
      " 0   id_x               2385 non-null   int64  \n",
      " 1   movie              2385 non-null   object \n",
      " 2   production_budget  2385 non-null   int64  \n",
      " 3   domestic_gross     2385 non-null   int64  \n",
      " 4   worldwide_gross    2385 non-null   int64  \n",
      " 5   release_year_x     2385 non-null   int32  \n",
      " 6   release_month_x    2385 non-null   int32  \n",
      " 7   genre_ids          2385 non-null   object \n",
      " 8   id_y               2385 non-null   int64  \n",
      " 9   original_language  2385 non-null   object \n",
      " 10  original_title     2385 non-null   object \n",
      " 11  popularity         2385 non-null   float64\n",
      " 12  title              2385 non-null   object \n",
      " 13  vote_average       2385 non-null   float64\n",
      " 14  vote_count         2385 non-null   int64  \n",
      " 15  release_month_y    2385 non-null   int32  \n",
      " 16  release_year_y     2385 non-null   int32  \n",
      "dtypes: float64(2), int32(4), int64(6), object(5)\n",
      "memory usage: 279.6+ KB\n"
     ]
    }
   ],
   "source": [
    "merged_df.info()"
   ]
  },
  {
   "attachments": {},
   "cell_type": "markdown",
   "metadata": {},
   "source": [
    "## **Data Cleaning & Imputation**"
   ]
  },
  {
   "cell_type": "code",
   "execution_count": 122,
   "metadata": {},
   "outputs": [],
   "source": [
    "merged_df.drop(['id_y', 'original_title', 'title', 'release_year_x', 'release_month_x'], axis=1, inplace=True)"
   ]
  },
  {
   "cell_type": "code",
   "execution_count": 123,
   "metadata": {},
   "outputs": [],
   "source": [
    "merged_df.rename(columns={'id_x': 'id', 'release_year_y': 'release_year', 'release_month_y': 'release_month'}, inplace=True)"
   ]
  },
  {
   "cell_type": "code",
   "execution_count": 124,
   "metadata": {
    "scrolled": true
   },
   "outputs": [],
   "source": [
    "merged_df.drop_duplicates(subset='movie', keep='last', inplace=True)"
   ]
  },
  {
   "cell_type": "code",
   "execution_count": 125,
   "metadata": {},
   "outputs": [],
   "source": [
    "merged_df['net_profit'] = merged_df['worldwide_gross'] - merged_df['production_budget']"
   ]
  },
  {
   "cell_type": "code",
   "execution_count": 126,
   "metadata": {},
   "outputs": [],
   "source": [
    "#create columns for low, mid, and high budgets films \n",
    "def budget(x): \n",
    "    if x < 5000000: \n",
    "        budget = 'low'\n",
    "    if 5000000 <= x < 50000000: \n",
    "        budget = 'mid'\n",
    "    if x >= 50000000:\n",
    "        budget = 'high'\n",
    "    return budget"
   ]
  },
  {
   "cell_type": "code",
   "execution_count": 127,
   "metadata": {},
   "outputs": [],
   "source": [
    "#feature engineering\n",
    "merged_df['budget'] = merged_df['production_budget'].apply(lambda x: budget(x))"
   ]
  },
  {
   "cell_type": "code",
   "execution_count": 128,
   "metadata": {},
   "outputs": [
    {
     "data": {
      "text/html": [
       "<div>\n",
       "<style scoped>\n",
       "    .dataframe tbody tr th:only-of-type {\n",
       "        vertical-align: middle;\n",
       "    }\n",
       "\n",
       "    .dataframe tbody tr th {\n",
       "        vertical-align: top;\n",
       "    }\n",
       "\n",
       "    .dataframe thead th {\n",
       "        text-align: right;\n",
       "    }\n",
       "</style>\n",
       "<table border=\"1\" class=\"dataframe\">\n",
       "  <thead>\n",
       "    <tr style=\"text-align: right;\">\n",
       "      <th></th>\n",
       "      <th>id</th>\n",
       "      <th>movie</th>\n",
       "      <th>production_budget</th>\n",
       "      <th>domestic_gross</th>\n",
       "      <th>worldwide_gross</th>\n",
       "      <th>genre_ids</th>\n",
       "      <th>original_language</th>\n",
       "      <th>popularity</th>\n",
       "      <th>vote_average</th>\n",
       "      <th>vote_count</th>\n",
       "      <th>release_month</th>\n",
       "      <th>release_year</th>\n",
       "      <th>net_profit</th>\n",
       "      <th>budget</th>\n",
       "    </tr>\n",
       "  </thead>\n",
       "  <tbody>\n",
       "    <tr>\n",
       "      <th>0</th>\n",
       "      <td>1</td>\n",
       "      <td>Avatar</td>\n",
       "      <td>425000000</td>\n",
       "      <td>760507625</td>\n",
       "      <td>2776345279</td>\n",
       "      <td>[28, 12, 14, 878]</td>\n",
       "      <td>en</td>\n",
       "      <td>26.526</td>\n",
       "      <td>7.4</td>\n",
       "      <td>18676</td>\n",
       "      <td>12</td>\n",
       "      <td>2009</td>\n",
       "      <td>2351345279</td>\n",
       "      <td>high</td>\n",
       "    </tr>\n",
       "    <tr>\n",
       "      <th>1</th>\n",
       "      <td>2</td>\n",
       "      <td>Pirates of the Caribbean: On Stranger Tides</td>\n",
       "      <td>410600000</td>\n",
       "      <td>241063875</td>\n",
       "      <td>1045663875</td>\n",
       "      <td>[12, 28, 14]</td>\n",
       "      <td>en</td>\n",
       "      <td>30.579</td>\n",
       "      <td>6.4</td>\n",
       "      <td>8571</td>\n",
       "      <td>5</td>\n",
       "      <td>2011</td>\n",
       "      <td>635063875</td>\n",
       "      <td>high</td>\n",
       "    </tr>\n",
       "    <tr>\n",
       "      <th>2</th>\n",
       "      <td>4</td>\n",
       "      <td>Avengers: Age of Ultron</td>\n",
       "      <td>330600000</td>\n",
       "      <td>459005868</td>\n",
       "      <td>1403013963</td>\n",
       "      <td>[28, 12, 878]</td>\n",
       "      <td>en</td>\n",
       "      <td>44.383</td>\n",
       "      <td>7.3</td>\n",
       "      <td>13457</td>\n",
       "      <td>5</td>\n",
       "      <td>2015</td>\n",
       "      <td>1072413963</td>\n",
       "      <td>high</td>\n",
       "    </tr>\n",
       "    <tr>\n",
       "      <th>3</th>\n",
       "      <td>7</td>\n",
       "      <td>Avengers: Infinity War</td>\n",
       "      <td>300000000</td>\n",
       "      <td>678815482</td>\n",
       "      <td>2048134200</td>\n",
       "      <td>[12, 28, 14]</td>\n",
       "      <td>en</td>\n",
       "      <td>80.773</td>\n",
       "      <td>8.3</td>\n",
       "      <td>13948</td>\n",
       "      <td>4</td>\n",
       "      <td>2018</td>\n",
       "      <td>1748134200</td>\n",
       "      <td>high</td>\n",
       "    </tr>\n",
       "    <tr>\n",
       "      <th>5</th>\n",
       "      <td>9</td>\n",
       "      <td>Justice League</td>\n",
       "      <td>300000000</td>\n",
       "      <td>229024295</td>\n",
       "      <td>655945209</td>\n",
       "      <td>[28, 12, 14, 878]</td>\n",
       "      <td>en</td>\n",
       "      <td>34.953</td>\n",
       "      <td>6.2</td>\n",
       "      <td>7510</td>\n",
       "      <td>11</td>\n",
       "      <td>2017</td>\n",
       "      <td>355945209</td>\n",
       "      <td>high</td>\n",
       "    </tr>\n",
       "  </tbody>\n",
       "</table>\n",
       "</div>"
      ],
      "text/plain": [
       "   id                                        movie  production_budget  \\\n",
       "0   1                                       Avatar          425000000   \n",
       "1   2  Pirates of the Caribbean: On Stranger Tides          410600000   \n",
       "2   4                      Avengers: Age of Ultron          330600000   \n",
       "3   7                       Avengers: Infinity War          300000000   \n",
       "5   9                               Justice League          300000000   \n",
       "\n",
       "   domestic_gross  worldwide_gross          genre_ids original_language  \\\n",
       "0       760507625       2776345279  [28, 12, 14, 878]                en   \n",
       "1       241063875       1045663875       [12, 28, 14]                en   \n",
       "2       459005868       1403013963      [28, 12, 878]                en   \n",
       "3       678815482       2048134200       [12, 28, 14]                en   \n",
       "5       229024295        655945209  [28, 12, 14, 878]                en   \n",
       "\n",
       "   popularity  vote_average  vote_count  release_month  release_year  \\\n",
       "0      26.526           7.4       18676             12          2009   \n",
       "1      30.579           6.4        8571              5          2011   \n",
       "2      44.383           7.3       13457              5          2015   \n",
       "3      80.773           8.3       13948              4          2018   \n",
       "5      34.953           6.2        7510             11          2017   \n",
       "\n",
       "   net_profit budget  \n",
       "0  2351345279   high  \n",
       "1   635063875   high  \n",
       "2  1072413963   high  \n",
       "3  1748134200   high  \n",
       "5   355945209   high  "
      ]
     },
     "execution_count": 128,
     "metadata": {},
     "output_type": "execute_result"
    }
   ],
   "source": [
    "merged_df.head()"
   ]
  },
  {
   "cell_type": "code",
   "execution_count": 129,
   "metadata": {},
   "outputs": [],
   "source": [
    "merged_df['profit_margin'] = round(((merged_df['worldwide_gross'] - merged_df['production_budget']) / merged_df['worldwide_gross'] * 100), 2)"
   ]
  },
  {
   "cell_type": "code",
   "execution_count": 130,
   "metadata": {},
   "outputs": [
    {
     "name": "stdout",
     "output_type": "stream",
     "text": [
      "<class 'pandas.core.frame.DataFrame'>\n",
      "Index: 1924 entries, 0 to 2384\n",
      "Data columns (total 15 columns):\n",
      " #   Column             Non-Null Count  Dtype  \n",
      "---  ------             --------------  -----  \n",
      " 0   id                 1924 non-null   int64  \n",
      " 1   movie              1924 non-null   object \n",
      " 2   production_budget  1924 non-null   int64  \n",
      " 3   domestic_gross     1924 non-null   int64  \n",
      " 4   worldwide_gross    1924 non-null   int64  \n",
      " 5   genre_ids          1924 non-null   object \n",
      " 6   original_language  1924 non-null   object \n",
      " 7   popularity         1924 non-null   float64\n",
      " 8   vote_average       1924 non-null   float64\n",
      " 9   vote_count         1924 non-null   int64  \n",
      " 10  release_month      1924 non-null   int32  \n",
      " 11  release_year       1924 non-null   int32  \n",
      " 12  net_profit         1924 non-null   int64  \n",
      " 13  budget             1924 non-null   object \n",
      " 14  profit_margin      1924 non-null   float64\n",
      "dtypes: float64(3), int32(2), int64(6), object(4)\n",
      "memory usage: 225.5+ KB\n"
     ]
    }
   ],
   "source": [
    "merged_df.info()"
   ]
  },
  {
   "cell_type": "code",
   "execution_count": 131,
   "metadata": {},
   "outputs": [],
   "source": [
    "\n",
    "# Remove the '[' and ']' from the values in 'genre_ids' column\n",
    "merged_df['genre_ids'] = merged_df['genre_ids'].str.replace('[', '').str.replace(']', '')"
   ]
  },
  {
   "cell_type": "code",
   "execution_count": 132,
   "metadata": {},
   "outputs": [
    {
     "data": {
      "text/html": [
       "<div>\n",
       "<style scoped>\n",
       "    .dataframe tbody tr th:only-of-type {\n",
       "        vertical-align: middle;\n",
       "    }\n",
       "\n",
       "    .dataframe tbody tr th {\n",
       "        vertical-align: top;\n",
       "    }\n",
       "\n",
       "    .dataframe thead th {\n",
       "        text-align: right;\n",
       "    }\n",
       "</style>\n",
       "<table border=\"1\" class=\"dataframe\">\n",
       "  <thead>\n",
       "    <tr style=\"text-align: right;\">\n",
       "      <th></th>\n",
       "      <th>id</th>\n",
       "      <th>movie</th>\n",
       "      <th>production_budget</th>\n",
       "      <th>domestic_gross</th>\n",
       "      <th>worldwide_gross</th>\n",
       "      <th>genre_ids</th>\n",
       "      <th>original_language</th>\n",
       "      <th>popularity</th>\n",
       "      <th>vote_average</th>\n",
       "      <th>vote_count</th>\n",
       "      <th>release_month</th>\n",
       "      <th>release_year</th>\n",
       "      <th>net_profit</th>\n",
       "      <th>budget</th>\n",
       "      <th>profit_margin</th>\n",
       "    </tr>\n",
       "  </thead>\n",
       "  <tbody>\n",
       "    <tr>\n",
       "      <th>0</th>\n",
       "      <td>1</td>\n",
       "      <td>Avatar</td>\n",
       "      <td>425000000</td>\n",
       "      <td>760507625</td>\n",
       "      <td>2776345279</td>\n",
       "      <td>28, 12, 14, 878</td>\n",
       "      <td>en</td>\n",
       "      <td>26.526</td>\n",
       "      <td>7.4</td>\n",
       "      <td>18676</td>\n",
       "      <td>12</td>\n",
       "      <td>2009</td>\n",
       "      <td>2351345279</td>\n",
       "      <td>high</td>\n",
       "      <td>84.69</td>\n",
       "    </tr>\n",
       "    <tr>\n",
       "      <th>1</th>\n",
       "      <td>2</td>\n",
       "      <td>Pirates of the Caribbean: On Stranger Tides</td>\n",
       "      <td>410600000</td>\n",
       "      <td>241063875</td>\n",
       "      <td>1045663875</td>\n",
       "      <td>12, 28, 14</td>\n",
       "      <td>en</td>\n",
       "      <td>30.579</td>\n",
       "      <td>6.4</td>\n",
       "      <td>8571</td>\n",
       "      <td>5</td>\n",
       "      <td>2011</td>\n",
       "      <td>635063875</td>\n",
       "      <td>high</td>\n",
       "      <td>60.73</td>\n",
       "    </tr>\n",
       "    <tr>\n",
       "      <th>2</th>\n",
       "      <td>4</td>\n",
       "      <td>Avengers: Age of Ultron</td>\n",
       "      <td>330600000</td>\n",
       "      <td>459005868</td>\n",
       "      <td>1403013963</td>\n",
       "      <td>28, 12, 878</td>\n",
       "      <td>en</td>\n",
       "      <td>44.383</td>\n",
       "      <td>7.3</td>\n",
       "      <td>13457</td>\n",
       "      <td>5</td>\n",
       "      <td>2015</td>\n",
       "      <td>1072413963</td>\n",
       "      <td>high</td>\n",
       "      <td>76.44</td>\n",
       "    </tr>\n",
       "    <tr>\n",
       "      <th>3</th>\n",
       "      <td>7</td>\n",
       "      <td>Avengers: Infinity War</td>\n",
       "      <td>300000000</td>\n",
       "      <td>678815482</td>\n",
       "      <td>2048134200</td>\n",
       "      <td>12, 28, 14</td>\n",
       "      <td>en</td>\n",
       "      <td>80.773</td>\n",
       "      <td>8.3</td>\n",
       "      <td>13948</td>\n",
       "      <td>4</td>\n",
       "      <td>2018</td>\n",
       "      <td>1748134200</td>\n",
       "      <td>high</td>\n",
       "      <td>85.35</td>\n",
       "    </tr>\n",
       "    <tr>\n",
       "      <th>5</th>\n",
       "      <td>9</td>\n",
       "      <td>Justice League</td>\n",
       "      <td>300000000</td>\n",
       "      <td>229024295</td>\n",
       "      <td>655945209</td>\n",
       "      <td>28, 12, 14, 878</td>\n",
       "      <td>en</td>\n",
       "      <td>34.953</td>\n",
       "      <td>6.2</td>\n",
       "      <td>7510</td>\n",
       "      <td>11</td>\n",
       "      <td>2017</td>\n",
       "      <td>355945209</td>\n",
       "      <td>high</td>\n",
       "      <td>54.26</td>\n",
       "    </tr>\n",
       "  </tbody>\n",
       "</table>\n",
       "</div>"
      ],
      "text/plain": [
       "   id                                        movie  production_budget  \\\n",
       "0   1                                       Avatar          425000000   \n",
       "1   2  Pirates of the Caribbean: On Stranger Tides          410600000   \n",
       "2   4                      Avengers: Age of Ultron          330600000   \n",
       "3   7                       Avengers: Infinity War          300000000   \n",
       "5   9                               Justice League          300000000   \n",
       "\n",
       "   domestic_gross  worldwide_gross        genre_ids original_language  \\\n",
       "0       760507625       2776345279  28, 12, 14, 878                en   \n",
       "1       241063875       1045663875       12, 28, 14                en   \n",
       "2       459005868       1403013963      28, 12, 878                en   \n",
       "3       678815482       2048134200       12, 28, 14                en   \n",
       "5       229024295        655945209  28, 12, 14, 878                en   \n",
       "\n",
       "   popularity  vote_average  vote_count  release_month  release_year  \\\n",
       "0      26.526           7.4       18676             12          2009   \n",
       "1      30.579           6.4        8571              5          2011   \n",
       "2      44.383           7.3       13457              5          2015   \n",
       "3      80.773           8.3       13948              4          2018   \n",
       "5      34.953           6.2        7510             11          2017   \n",
       "\n",
       "   net_profit budget  profit_margin  \n",
       "0  2351345279   high          84.69  \n",
       "1   635063875   high          60.73  \n",
       "2  1072413963   high          76.44  \n",
       "3  1748134200   high          85.35  \n",
       "5   355945209   high          54.26  "
      ]
     },
     "execution_count": 132,
     "metadata": {},
     "output_type": "execute_result"
    }
   ],
   "source": [
    "merged_df.head()"
   ]
  },
  {
   "cell_type": "code",
   "execution_count": 133,
   "metadata": {},
   "outputs": [],
   "source": [
    "# Define the genre dictionary\n",
    "gen_dict = {'28': 'Action', '12': 'Adventure', '16': 'Animation', '35': 'Comedy', '80': 'Crime',\n",
    "            '99': 'Documentary', '18': 'Drama', '10751': 'Family', '14': 'Fantasy', '36': 'History',\n",
    "            '27': 'Horror', '10402': 'Music', '9648': 'Mystery', '10749': 'Romance', '878': 'Science Fiction',\n",
    "            '10770': 'TV Movie', '53': 'Thriller', '10752': 'War', '37': 'Western'}\n",
    "\n",
    "def genre_names(x):\n",
    "    try:  \n",
    "        st = str(x)\n",
    "        names = st.split(',')\n",
    "        names_list = []\n",
    "        for name in names:\n",
    "            na_strip = name.strip()\n",
    "            na = gen_dict[na_strip]\n",
    "            names_list.append(na)\n",
    "        return names_list\n",
    "    except: \n",
    "       return None \n",
    "\n",
    "# Apply the conversion to create a new column 'genres' with string values from 'genre_ids'\n",
    "#merged_df['genres'] = merged_df['genres'].apply(lambda x: ', '.join(gen_dict.get(id, '') for id in x.split(', ')))"
   ]
  },
  {
   "cell_type": "code",
   "execution_count": 134,
   "metadata": {},
   "outputs": [],
   "source": [
    "merged_df['genres'] = merged_df['genre_ids'].apply(lambda x: genre_names(x))"
   ]
  },
  {
   "cell_type": "code",
   "execution_count": 135,
   "metadata": {},
   "outputs": [
    {
     "data": {
      "text/html": [
       "<div>\n",
       "<style scoped>\n",
       "    .dataframe tbody tr th:only-of-type {\n",
       "        vertical-align: middle;\n",
       "    }\n",
       "\n",
       "    .dataframe tbody tr th {\n",
       "        vertical-align: top;\n",
       "    }\n",
       "\n",
       "    .dataframe thead th {\n",
       "        text-align: right;\n",
       "    }\n",
       "</style>\n",
       "<table border=\"1\" class=\"dataframe\">\n",
       "  <thead>\n",
       "    <tr style=\"text-align: right;\">\n",
       "      <th></th>\n",
       "      <th>id</th>\n",
       "      <th>movie</th>\n",
       "      <th>production_budget</th>\n",
       "      <th>domestic_gross</th>\n",
       "      <th>worldwide_gross</th>\n",
       "      <th>genre_ids</th>\n",
       "      <th>original_language</th>\n",
       "      <th>popularity</th>\n",
       "      <th>vote_average</th>\n",
       "      <th>vote_count</th>\n",
       "      <th>release_month</th>\n",
       "      <th>release_year</th>\n",
       "      <th>net_profit</th>\n",
       "      <th>budget</th>\n",
       "      <th>profit_margin</th>\n",
       "      <th>genres</th>\n",
       "    </tr>\n",
       "  </thead>\n",
       "  <tbody>\n",
       "    <tr>\n",
       "      <th>0</th>\n",
       "      <td>1</td>\n",
       "      <td>Avatar</td>\n",
       "      <td>425000000</td>\n",
       "      <td>760507625</td>\n",
       "      <td>2776345279</td>\n",
       "      <td>28, 12, 14, 878</td>\n",
       "      <td>en</td>\n",
       "      <td>26.526</td>\n",
       "      <td>7.4</td>\n",
       "      <td>18676</td>\n",
       "      <td>12</td>\n",
       "      <td>2009</td>\n",
       "      <td>2351345279</td>\n",
       "      <td>high</td>\n",
       "      <td>84.69</td>\n",
       "      <td>[Action, Adventure, Fantasy, Science Fiction]</td>\n",
       "    </tr>\n",
       "    <tr>\n",
       "      <th>1</th>\n",
       "      <td>2</td>\n",
       "      <td>Pirates of the Caribbean: On Stranger Tides</td>\n",
       "      <td>410600000</td>\n",
       "      <td>241063875</td>\n",
       "      <td>1045663875</td>\n",
       "      <td>12, 28, 14</td>\n",
       "      <td>en</td>\n",
       "      <td>30.579</td>\n",
       "      <td>6.4</td>\n",
       "      <td>8571</td>\n",
       "      <td>5</td>\n",
       "      <td>2011</td>\n",
       "      <td>635063875</td>\n",
       "      <td>high</td>\n",
       "      <td>60.73</td>\n",
       "      <td>[Adventure, Action, Fantasy]</td>\n",
       "    </tr>\n",
       "    <tr>\n",
       "      <th>2</th>\n",
       "      <td>4</td>\n",
       "      <td>Avengers: Age of Ultron</td>\n",
       "      <td>330600000</td>\n",
       "      <td>459005868</td>\n",
       "      <td>1403013963</td>\n",
       "      <td>28, 12, 878</td>\n",
       "      <td>en</td>\n",
       "      <td>44.383</td>\n",
       "      <td>7.3</td>\n",
       "      <td>13457</td>\n",
       "      <td>5</td>\n",
       "      <td>2015</td>\n",
       "      <td>1072413963</td>\n",
       "      <td>high</td>\n",
       "      <td>76.44</td>\n",
       "      <td>[Action, Adventure, Science Fiction]</td>\n",
       "    </tr>\n",
       "    <tr>\n",
       "      <th>3</th>\n",
       "      <td>7</td>\n",
       "      <td>Avengers: Infinity War</td>\n",
       "      <td>300000000</td>\n",
       "      <td>678815482</td>\n",
       "      <td>2048134200</td>\n",
       "      <td>12, 28, 14</td>\n",
       "      <td>en</td>\n",
       "      <td>80.773</td>\n",
       "      <td>8.3</td>\n",
       "      <td>13948</td>\n",
       "      <td>4</td>\n",
       "      <td>2018</td>\n",
       "      <td>1748134200</td>\n",
       "      <td>high</td>\n",
       "      <td>85.35</td>\n",
       "      <td>[Adventure, Action, Fantasy]</td>\n",
       "    </tr>\n",
       "    <tr>\n",
       "      <th>5</th>\n",
       "      <td>9</td>\n",
       "      <td>Justice League</td>\n",
       "      <td>300000000</td>\n",
       "      <td>229024295</td>\n",
       "      <td>655945209</td>\n",
       "      <td>28, 12, 14, 878</td>\n",
       "      <td>en</td>\n",
       "      <td>34.953</td>\n",
       "      <td>6.2</td>\n",
       "      <td>7510</td>\n",
       "      <td>11</td>\n",
       "      <td>2017</td>\n",
       "      <td>355945209</td>\n",
       "      <td>high</td>\n",
       "      <td>54.26</td>\n",
       "      <td>[Action, Adventure, Fantasy, Science Fiction]</td>\n",
       "    </tr>\n",
       "  </tbody>\n",
       "</table>\n",
       "</div>"
      ],
      "text/plain": [
       "   id                                        movie  production_budget  \\\n",
       "0   1                                       Avatar          425000000   \n",
       "1   2  Pirates of the Caribbean: On Stranger Tides          410600000   \n",
       "2   4                      Avengers: Age of Ultron          330600000   \n",
       "3   7                       Avengers: Infinity War          300000000   \n",
       "5   9                               Justice League          300000000   \n",
       "\n",
       "   domestic_gross  worldwide_gross        genre_ids original_language  \\\n",
       "0       760507625       2776345279  28, 12, 14, 878                en   \n",
       "1       241063875       1045663875       12, 28, 14                en   \n",
       "2       459005868       1403013963      28, 12, 878                en   \n",
       "3       678815482       2048134200       12, 28, 14                en   \n",
       "5       229024295        655945209  28, 12, 14, 878                en   \n",
       "\n",
       "   popularity  vote_average  vote_count  release_month  release_year  \\\n",
       "0      26.526           7.4       18676             12          2009   \n",
       "1      30.579           6.4        8571              5          2011   \n",
       "2      44.383           7.3       13457              5          2015   \n",
       "3      80.773           8.3       13948              4          2018   \n",
       "5      34.953           6.2        7510             11          2017   \n",
       "\n",
       "   net_profit budget  profit_margin  \\\n",
       "0  2351345279   high          84.69   \n",
       "1   635063875   high          60.73   \n",
       "2  1072413963   high          76.44   \n",
       "3  1748134200   high          85.35   \n",
       "5   355945209   high          54.26   \n",
       "\n",
       "                                          genres  \n",
       "0  [Action, Adventure, Fantasy, Science Fiction]  \n",
       "1                   [Adventure, Action, Fantasy]  \n",
       "2           [Action, Adventure, Science Fiction]  \n",
       "3                   [Adventure, Action, Fantasy]  \n",
       "5  [Action, Adventure, Fantasy, Science Fiction]  "
      ]
     },
     "execution_count": 135,
     "metadata": {},
     "output_type": "execute_result"
    }
   ],
   "source": [
    "merged_df.head()"
   ]
  },
  {
   "cell_type": "code",
   "execution_count": 136,
   "metadata": {},
   "outputs": [],
   "source": [
    "merged_df.dropna(subset='genres', inplace=True)"
   ]
  },
  {
   "cell_type": "code",
   "execution_count": 137,
   "metadata": {},
   "outputs": [
    {
     "name": "stdout",
     "output_type": "stream",
     "text": [
      "<class 'pandas.core.frame.DataFrame'>\n",
      "Index: 1891 entries, 0 to 2384\n",
      "Data columns (total 16 columns):\n",
      " #   Column             Non-Null Count  Dtype  \n",
      "---  ------             --------------  -----  \n",
      " 0   id                 1891 non-null   int64  \n",
      " 1   movie              1891 non-null   object \n",
      " 2   production_budget  1891 non-null   int64  \n",
      " 3   domestic_gross     1891 non-null   int64  \n",
      " 4   worldwide_gross    1891 non-null   int64  \n",
      " 5   genre_ids          1891 non-null   object \n",
      " 6   original_language  1891 non-null   object \n",
      " 7   popularity         1891 non-null   float64\n",
      " 8   vote_average       1891 non-null   float64\n",
      " 9   vote_count         1891 non-null   int64  \n",
      " 10  release_month      1891 non-null   int32  \n",
      " 11  release_year       1891 non-null   int32  \n",
      " 12  net_profit         1891 non-null   int64  \n",
      " 13  budget             1891 non-null   object \n",
      " 14  profit_margin      1891 non-null   float64\n",
      " 15  genres             1891 non-null   object \n",
      "dtypes: float64(3), int32(2), int64(6), object(5)\n",
      "memory usage: 236.4+ KB\n"
     ]
    }
   ],
   "source": [
    "merged_df.info()"
   ]
  },
  {
   "cell_type": "code",
   "execution_count": 138,
   "metadata": {},
   "outputs": [],
   "source": [
    "def make_action(i, genre):\n",
    "    if (genre) in i:\n",
    "        return 1\n",
    "    else: \n",
    "        return 0"
   ]
  },
  {
   "cell_type": "code",
   "execution_count": 139,
   "metadata": {},
   "outputs": [],
   "source": [
    "#merged_df['Action'] = merged_df['genres'].apply(lambda x: make_action(x))\n",
    "merged_df['Adventure'] = merged_df['genres'].apply(lambda x: make_action(x, 'Adventure'))\n"
   ]
  },
  {
   "cell_type": "code",
   "execution_count": 140,
   "metadata": {},
   "outputs": [],
   "source": [
    "genres = list(gen_dict.values())\n",
    "genres\n",
    "\n",
    "for genre in genres: \n",
    "    merged_df[genre] = merged_df['genres'].apply(lambda x: make_action(x, genre))"
   ]
  },
  {
   "cell_type": "code",
   "execution_count": 141,
   "metadata": {},
   "outputs": [
    {
     "data": {
      "text/html": [
       "<div>\n",
       "<style scoped>\n",
       "    .dataframe tbody tr th:only-of-type {\n",
       "        vertical-align: middle;\n",
       "    }\n",
       "\n",
       "    .dataframe tbody tr th {\n",
       "        vertical-align: top;\n",
       "    }\n",
       "\n",
       "    .dataframe thead th {\n",
       "        text-align: right;\n",
       "    }\n",
       "</style>\n",
       "<table border=\"1\" class=\"dataframe\">\n",
       "  <thead>\n",
       "    <tr style=\"text-align: right;\">\n",
       "      <th></th>\n",
       "      <th>Action</th>\n",
       "      <th>Adventure</th>\n",
       "      <th>Animation</th>\n",
       "      <th>Comedy</th>\n",
       "      <th>Crime</th>\n",
       "      <th>Documentary</th>\n",
       "      <th>Drama</th>\n",
       "      <th>Family</th>\n",
       "      <th>Fantasy</th>\n",
       "      <th>History</th>\n",
       "      <th>Horror</th>\n",
       "      <th>Music</th>\n",
       "      <th>Mystery</th>\n",
       "      <th>Romance</th>\n",
       "      <th>Science Fiction</th>\n",
       "      <th>TV Movie</th>\n",
       "      <th>Thriller</th>\n",
       "      <th>War</th>\n",
       "      <th>Western</th>\n",
       "    </tr>\n",
       "    <tr>\n",
       "      <th>budget</th>\n",
       "      <th></th>\n",
       "      <th></th>\n",
       "      <th></th>\n",
       "      <th></th>\n",
       "      <th></th>\n",
       "      <th></th>\n",
       "      <th></th>\n",
       "      <th></th>\n",
       "      <th></th>\n",
       "      <th></th>\n",
       "      <th></th>\n",
       "      <th></th>\n",
       "      <th></th>\n",
       "      <th></th>\n",
       "      <th></th>\n",
       "      <th></th>\n",
       "      <th></th>\n",
       "      <th></th>\n",
       "      <th></th>\n",
       "    </tr>\n",
       "  </thead>\n",
       "  <tbody>\n",
       "    <tr>\n",
       "      <th>high</th>\n",
       "      <td>232</td>\n",
       "      <td>215</td>\n",
       "      <td>86</td>\n",
       "      <td>142</td>\n",
       "      <td>44</td>\n",
       "      <td>9</td>\n",
       "      <td>126</td>\n",
       "      <td>113</td>\n",
       "      <td>115</td>\n",
       "      <td>16</td>\n",
       "      <td>28</td>\n",
       "      <td>8</td>\n",
       "      <td>27</td>\n",
       "      <td>33</td>\n",
       "      <td>109</td>\n",
       "      <td>3</td>\n",
       "      <td>111</td>\n",
       "      <td>17</td>\n",
       "      <td>8</td>\n",
       "    </tr>\n",
       "    <tr>\n",
       "      <th>low</th>\n",
       "      <td>44</td>\n",
       "      <td>22</td>\n",
       "      <td>8</td>\n",
       "      <td>106</td>\n",
       "      <td>37</td>\n",
       "      <td>41</td>\n",
       "      <td>221</td>\n",
       "      <td>15</td>\n",
       "      <td>18</td>\n",
       "      <td>4</td>\n",
       "      <td>112</td>\n",
       "      <td>10</td>\n",
       "      <td>41</td>\n",
       "      <td>56</td>\n",
       "      <td>37</td>\n",
       "      <td>4</td>\n",
       "      <td>134</td>\n",
       "      <td>6</td>\n",
       "      <td>7</td>\n",
       "    </tr>\n",
       "    <tr>\n",
       "      <th>mid</th>\n",
       "      <td>196</td>\n",
       "      <td>69</td>\n",
       "      <td>29</td>\n",
       "      <td>336</td>\n",
       "      <td>164</td>\n",
       "      <td>23</td>\n",
       "      <td>522</td>\n",
       "      <td>62</td>\n",
       "      <td>46</td>\n",
       "      <td>54</td>\n",
       "      <td>120</td>\n",
       "      <td>33</td>\n",
       "      <td>73</td>\n",
       "      <td>149</td>\n",
       "      <td>73</td>\n",
       "      <td>2</td>\n",
       "      <td>282</td>\n",
       "      <td>29</td>\n",
       "      <td>8</td>\n",
       "    </tr>\n",
       "  </tbody>\n",
       "</table>\n",
       "</div>"
      ],
      "text/plain": [
       "        Action  Adventure  Animation  Comedy  Crime  Documentary  Drama  \\\n",
       "budget                                                                    \n",
       "high       232        215         86     142     44            9    126   \n",
       "low         44         22          8     106     37           41    221   \n",
       "mid        196         69         29     336    164           23    522   \n",
       "\n",
       "        Family  Fantasy  History  Horror  Music  Mystery  Romance  \\\n",
       "budget                                                              \n",
       "high       113      115       16      28      8       27       33   \n",
       "low         15       18        4     112     10       41       56   \n",
       "mid         62       46       54     120     33       73      149   \n",
       "\n",
       "        Science Fiction  TV Movie  Thriller  War  Western  \n",
       "budget                                                     \n",
       "high                109         3       111   17        8  \n",
       "low                  37         4       134    6        7  \n",
       "mid                  73         2       282   29        8  "
      ]
     },
     "execution_count": 141,
     "metadata": {},
     "output_type": "execute_result"
    }
   ],
   "source": [
    "#Looking at which genres appear most in each budget range  \n",
    "merged_df.groupby('budget')[genres].sum()"
   ]
  },
  {
   "cell_type": "code",
   "execution_count": 142,
   "metadata": {},
   "outputs": [],
   "source": [
    "#create budget dataframes\n",
    "high_df = merged_df[merged_df['budget'] == 'high']\n",
    "mid_df = merged_df[merged_df['budget'] == 'mid']\n",
    "low_df = merged_df[merged_df['budget'] == 'low']"
   ]
  },
  {
   "cell_type": "code",
   "execution_count": 143,
   "metadata": {},
   "outputs": [
    {
     "data": {
      "text/plain": [
       "genres\n",
       "[Action, Adventure, Science Fiction]             6\n",
       "[Action, Adventure, Fantasy]                     6\n",
       "[Action, Adventure, Fantasy, Science Fiction]    5\n",
       "[Action, Science Fiction, Adventure]             3\n",
       "[Animation, Family, Comedy]                      3\n",
       "[Adventure, Action, Science Fiction]             3\n",
       "[Adventure, Fantasy, Action]                     2\n",
       "[Action, Crime, Drama, Thriller]                 2\n",
       "[Documentary]                                    2\n",
       "[Action, Adventure, Comedy, Fantasy]             2\n",
       "[Animation, Comedy, Family]                      2\n",
       "[Adventure, Action, Fantasy]                     2\n",
       "[Action, Crime, Thriller]                        2\n",
       "[Animation, Family]                              2\n",
       "[Action, Thriller, Crime]                        1\n",
       "Name: count, dtype: int64"
      ]
     },
     "execution_count": 143,
     "metadata": {},
     "output_type": "execute_result"
    }
   ],
   "source": [
    "#calculate which genre groups are best in high budget by looking at top net_profits\n",
    "top_net_high = high_df.sort_values('net_profit', ascending=False)[:100]\n",
    "top_net_high['genres'].value_counts()[:15]"
   ]
  },
  {
   "cell_type": "code",
   "execution_count": 144,
   "metadata": {},
   "outputs": [
    {
     "data": {
      "text/plain": [
       "[('TV Movie', -5328087),\n",
       " ('History', 56417857),\n",
       " ('Horror', 114314022),\n",
       " ('Western', 124433113),\n",
       " ('Romance', 132359307),\n",
       " ('Mystery', 143855669),\n",
       " ('Music', 146386764),\n",
       " ('War', 149279833),\n",
       " ('Drama', 163992132),\n",
       " ('Documentary', 169138219),\n",
       " ('Thriller', 176097808),\n",
       " ('Crime', 207923921),\n",
       " ('Comedy', 242712354),\n",
       " ('Action', 283110830),\n",
       " ('Family', 283904633),\n",
       " ('Fantasy', 290206880),\n",
       " ('Science Fiction', 322883242),\n",
       " ('Adventure', 328536649),\n",
       " ('Animation', 334292676)]"
      ]
     },
     "execution_count": 144,
     "metadata": {},
     "output_type": "execute_result"
    }
   ],
   "source": [
    "#calculate average net profits for each genre tag in high budget category\n",
    "high_np_counts = {}\n",
    "\n",
    "def get_mean_np(genre, df):\n",
    "    new_df = df[df[genre] == 1]\n",
    "    ave_np = new_df['net_profit'].mean()\n",
    "    high_np_counts[genre] = int(ave_np)\n",
    "    return int(ave_np)\n",
    "\n",
    "for genre in genres: \n",
    "    get_mean_np(genre, high_df)\n",
    "\n",
    "(sorted(high_np_counts.items(), key=lambda x: x[1]))\n"
   ]
  },
  {
   "cell_type": "code",
   "execution_count": 145,
   "metadata": {},
   "outputs": [
    {
     "data": {
      "text/plain": [
       "genres\n",
       "[Drama]                      7\n",
       "[Comedy]                     6\n",
       "[Comedy, Romance]            5\n",
       "[Horror]                     4\n",
       "[Drama, Romance]             3\n",
       "[Drama, Comedy]              3\n",
       "[Action, Comedy, Crime]      3\n",
       "[Comedy, Crime]              3\n",
       "[Drama, History]             3\n",
       "[Action, Crime, Thriller]    2\n",
       "[Comedy, Drama]              2\n",
       "[Drama, Thriller]            2\n",
       "[Comedy, Music]              2\n",
       "[Thriller, Drama]            2\n",
       "[Comedy, Drama, Romance]     2\n",
       "Name: count, dtype: int64"
      ]
     },
     "execution_count": 145,
     "metadata": {},
     "output_type": "execute_result"
    }
   ],
   "source": [
    "#calculate which genre groups are best in mid budget by looking at top net_profits\n",
    "top_net_mid = mid_df.sort_values('net_profit', ascending=False)[:100]\n",
    "top_net_mid['genres'].value_counts()[:15]"
   ]
  },
  {
   "cell_type": "code",
   "execution_count": 146,
   "metadata": {},
   "outputs": [
    {
     "data": {
      "text/plain": [
       "[('Western', 14450654),\n",
       " ('Documentary', 14592254),\n",
       " ('War', 24718167),\n",
       " ('History', 26712004),\n",
       " ('Crime', 29058464),\n",
       " ('Drama', 31777149),\n",
       " ('Adventure', 32400095),\n",
       " ('Thriller', 36084871),\n",
       " ('Action', 38683955),\n",
       " ('Mystery', 40748378),\n",
       " ('Music', 44627847),\n",
       " ('Comedy', 46198752),\n",
       " ('Animation', 48140471),\n",
       " ('Science Fiction', 50709519),\n",
       " ('Romance', 51230328),\n",
       " ('Fantasy', 51711031),\n",
       " ('Horror', 53353449),\n",
       " ('Family', 58880242),\n",
       " ('TV Movie', 64911219)]"
      ]
     },
     "execution_count": 146,
     "metadata": {},
     "output_type": "execute_result"
    }
   ],
   "source": [
    "#calculate average net profits for each genre tag in mid budget category\n",
    "mid_np_counts = {}\n",
    "\n",
    "def get_mean_np(genre, df):\n",
    "    new_df = df[df[genre] == 1]\n",
    "    ave_np = new_df['net_profit'].mean()\n",
    "    mid_np_counts[genre] = int(ave_np)\n",
    "    return int(ave_np)\n",
    "\n",
    "for genre in genres: \n",
    "    get_mean_np(genre, mid_df)\n",
    "\n",
    "(sorted(mid_np_counts.items(), key=lambda x: x[1]))"
   ]
  },
  {
   "cell_type": "code",
   "execution_count": 147,
   "metadata": {},
   "outputs": [
    {
     "data": {
      "text/plain": [
       "genres\n",
       "[Drama]                              15\n",
       "[Horror, Thriller]                    8\n",
       "[Comedy, Drama]                       5\n",
       "[Drama, Romance]                      5\n",
       "[Horror]                              4\n",
       "[Thriller, Horror]                    3\n",
       "[Comedy, Horror]                      3\n",
       "[Documentary]                         3\n",
       "[Comedy, Documentary]                 2\n",
       "[Horror, Thriller, Mystery]           2\n",
       "[Drama, Horror]                       2\n",
       "[Drama, Romance, Comedy]              2\n",
       "[Drama, Thriller]                     2\n",
       "[Drama, Music, Romance, Comedy]       1\n",
       "[Romance, Fantasy, Family, Drama]     1\n",
       "Name: count, dtype: int64"
      ]
     },
     "execution_count": 147,
     "metadata": {},
     "output_type": "execute_result"
    }
   ],
   "source": [
    "#calculate which genre groups are best in low budget by looking at top net_profits\n",
    "top_net_low = low_df.sort_values('net_profit', ascending=False)[:100]\n",
    "top_net_low['genres'].value_counts()[:15]"
   ]
  },
  {
   "cell_type": "code",
   "execution_count": 148,
   "metadata": {},
   "outputs": [
    {
     "data": {
      "text/plain": [
       "[('Western', -715551),\n",
       " ('Action', -340436),\n",
       " ('Animation', 986629),\n",
       " ('Documentary', 1076981),\n",
       " ('TV Movie', 1412500),\n",
       " ('Adventure', 1859364),\n",
       " ('Comedy', 2029479),\n",
       " ('Crime', 2789845),\n",
       " ('War', 2913631),\n",
       " ('History', 4063101),\n",
       " ('Drama', 4687023),\n",
       " ('Music', 5288701),\n",
       " ('Science Fiction', 6309985),\n",
       " ('Mystery', 7909698),\n",
       " ('Romance', 8014612),\n",
       " ('Thriller', 8573673),\n",
       " ('Horror', 12380404),\n",
       " ('Fantasy', 19685560),\n",
       " ('Family', 20922073)]"
      ]
     },
     "execution_count": 148,
     "metadata": {},
     "output_type": "execute_result"
    }
   ],
   "source": [
    "#calculate average net profits for each genre tag in low budget category\n",
    "low_np_counts = {}\n",
    "\n",
    "def get_mean_np(genre, df):\n",
    "    new_df = df[df[genre] == 1]\n",
    "    ave_np = new_df['net_profit'].mean()\n",
    "    low_np_counts[genre] = int(ave_np)\n",
    "    return int(ave_np)\n",
    "\n",
    "for genre in genres: \n",
    "    get_mean_np(genre, low_df)\n",
    "\n",
    "(sorted(low_np_counts.items(), key=lambda x: x[1]))"
   ]
  },
  {
   "attachments": {},
   "cell_type": "markdown",
   "metadata": {},
   "source": [
    "## **Data Visualization**"
   ]
  },
  {
   "attachments": {},
   "cell_type": "markdown",
   "metadata": {},
   "source": [
    "### **Net Profit Analysis**"
   ]
  },
  {
   "cell_type": "code",
   "execution_count": 149,
   "metadata": {},
   "outputs": [
    {
     "data": {
      "image/png": "[encoded data removed]",
      "text/plain": [
       "<Figure size 1152x864 with 1 Axes>"
      ]
     },
     "metadata": {
      "needs_background": "light"
     },
     "output_type": "display_data"
    }
   ],
   "source": [
    "# Show the best month to release high budget movies based on Average Net Profits\n",
    "\n",
    "high_monthly = high_df.groupby('release_month')['net_profit'].mean()\n",
    "\n",
    "x=high_monthly.index\n",
    "height=high_monthly.values\n",
    "\n",
    "fig, ax = plt.subplots(figsize=(16, 12))\n",
    "\n",
    "ax.bar(x, height)\n",
    "ax.set_title(\"Average Net Profits by Release Month for High-Budget Movies\", fontsize=22)\n",
    "ax.set_ylabel(\"Average Net Profits\", fontsize=16)\n",
    "ax.set_xlabel(\"Release Month\", fontsize=16)\n",
    "ax.set_xticks(range(1,13))\n",
    "ax.set_xticklabels(list('JFMAMJJASOND'));\n",
    "ax.yaxis.set_major_formatter(ticker.StrMethodFormatter('${x:,.0f}'))\n",
    "\n",
    "plt.tight_layout()\n"
   ]
  },
  {
   "cell_type": "code",
   "execution_count": 150,
   "metadata": {},
   "outputs": [
    {
     "data": {
      "image/png": "[encoded data removed]",
      "text/plain": [
       "<Figure size 1152x864 with 1 Axes>"
      ]
     },
     "metadata": {
      "needs_background": "light"
     },
     "output_type": "display_data"
    }
   ],
   "source": [
    "# Show the best month to release mid budget movies based on Average Net Profits\n",
    "\n",
    "mid_monthly = mid_df.groupby('release_month')['net_profit'].mean()\n",
    "\n",
    "x=mid_monthly.index\n",
    "height=mid_monthly.values\n",
    "\n",
    "fig, ax = plt.subplots(figsize=(16, 12))\n",
    "\n",
    "ax.bar(x, height)\n",
    "ax.set_title(\"Average Net Profits by Release Month for Mid-Budget Movies\", fontsize=22)\n",
    "ax.set_ylabel(\"Average Net Profits\", fontsize=16)\n",
    "ax.set_xlabel(\"Release Month\", fontsize=16)\n",
    "ax.set_xticks(range(1,13))\n",
    "ax.set_xticklabels(list('JFMAMJJASOND'));\n",
    "ax.yaxis.set_major_formatter(ticker.StrMethodFormatter('${x:,.0f}'))\n",
    "\n",
    "plt.tight_layout()"
   ]
  },
  {
   "cell_type": "code",
   "execution_count": 151,
   "metadata": {},
   "outputs": [
    {
     "data": {
      "image/png": "[encoded data removed]",
      "text/plain": [
       "<Figure size 1152x864 with 1 Axes>"
      ]
     },
     "metadata": {
      "needs_background": "light"
     },
     "output_type": "display_data"
    }
   ],
   "source": [
    "# Show the best month to release low budget movies based on Average Net Profits\n",
    "\n",
    "low_monthly = low_df.groupby('release_month')['net_profit'].mean()\n",
    "\n",
    "x=low_monthly.index\n",
    "height=low_monthly.values\n",
    "\n",
    "fig, ax = plt.subplots(figsize=(16, 12))\n",
    "\n",
    "ax.bar(x, height)\n",
    "ax.set_title(\"Average Net Profits by Release Month for Low-Budget Movies\", fontsize=22)\n",
    "ax.set_ylabel(\"Average Net Profits\", fontsize=16)\n",
    "ax.set_xlabel(\"Release Month\", fontsize=16)\n",
    "ax.set_xticks(range(1,13))\n",
    "ax.set_xticklabels(list('JFMAMJJASOND'));\n",
    "ax.yaxis.set_major_formatter(ticker.StrMethodFormatter('${x:,.0f}'))\n",
    "\n",
    "plt.tight_layout()"
   ]
  },
  {
   "cell_type": "code",
   "execution_count": 152,
   "metadata": {},
   "outputs": [
    {
     "data": {
      "text/plain": [
       "release_month\n",
       "1     43.165\n",
       "2     58.000\n",
       "3     57.080\n",
       "4     68.120\n",
       "5     66.250\n",
       "6     68.815\n",
       "7     68.440\n",
       "8     53.960\n",
       "9     44.820\n",
       "10    54.350\n",
       "11    64.550\n",
       "12    62.400\n",
       "Name: profit_margin, dtype: float64"
      ]
     },
     "execution_count": 152,
     "metadata": {},
     "output_type": "execute_result"
    }
   ],
   "source": [
    "# high_df['profit_margin'].sort_values\n",
    "# high_df.groupby('release_month')['profit_margin'].mean()\n",
    "\n",
    "high_df.groupby('release_month')['profit_margin'].median()"
   ]
  },
  {
   "cell_type": "code",
   "execution_count": 153,
   "metadata": {},
   "outputs": [
    {
     "data": {
      "text/plain": [
       "release_month\n",
       "1     57.71\n",
       "2     47.60\n",
       "3     38.24\n",
       "4     41.08\n",
       "5     43.29\n",
       "6     38.73\n",
       "7     58.41\n",
       "8     57.25\n",
       "9     33.87\n",
       "10    12.91\n",
       "11    56.15\n",
       "12    44.61\n",
       "Name: profit_margin, dtype: float64"
      ]
     },
     "execution_count": 153,
     "metadata": {},
     "output_type": "execute_result"
    }
   ],
   "source": [
    "# mid_df['profit_margin'].sort_values\n",
    "# mid_df.groupby('release_month')['profit_margin'].mean()\n",
    "\n",
    "mid_df.groupby('release_month')['profit_margin'].median()"
   ]
  },
  {
   "cell_type": "code",
   "execution_count": 154,
   "metadata": {},
   "outputs": [
    {
     "data": {
      "text/plain": [
       "release_month\n",
       "1       -1290.575\n",
       "2        -611.910\n",
       "3       -4984.095\n",
       "4        -122.030\n",
       "5        -437.730\n",
       "6        -799.850\n",
       "7         -12.060\n",
       "8         -51.165\n",
       "9        -401.450\n",
       "10       -227.980\n",
       "11       -335.980\n",
       "12   -1924450.795\n",
       "Name: profit_margin, dtype: float64"
      ]
     },
     "execution_count": 154,
     "metadata": {},
     "output_type": "execute_result"
    }
   ],
   "source": [
    "# low_df['profit_margin'].sort_values\n",
    "# low_df.groupby('release_month')['profit_margin'].mean()\n",
    "\n",
    "low_df.groupby('release_month')['profit_margin'].median()"
   ]
  },
  {
   "cell_type": "code",
   "execution_count": 155,
   "metadata": {},
   "outputs": [
    {
     "data": {
      "text/plain": [
       "release_month\n",
       "1     56.350\n",
       "2     -5.160\n",
       "3     42.530\n",
       "5     44.870\n",
       "6     57.580\n",
       "7     48.115\n",
       "8     56.755\n",
       "9     44.820\n",
       "10    63.500\n",
       "12    50.520\n",
       "Name: profit_margin, dtype: float64"
      ]
     },
     "execution_count": 155,
     "metadata": {},
     "output_type": "execute_result"
    }
   ],
   "source": [
    "high_df[high_df['Horror'] ==1].groupby('release_month')['profit_margin'].median()"
   ]
  },
  {
   "attachments": {},
   "cell_type": "markdown",
   "metadata": {},
   "source": [
    "### **Profit Margin Analysis**"
   ]
  },
  {
   "cell_type": "code",
   "execution_count": 156,
   "metadata": {},
   "outputs": [
    {
     "data": {
      "image/png": "[encoded data removed]",
      "text/plain": [
       "<Figure size 1152x864 with 1 Axes>"
      ]
     },
     "metadata": {
      "needs_background": "light"
     },
     "output_type": "display_data"
    }
   ],
   "source": [
    "# Show the best month to release low budget movies based on Average Net Profits\n",
    "\n",
    "low_monthly = low_df.groupby('release_month')['profit_margin'].median()\n",
    "\n",
    "x=low_monthly.index\n",
    "height=low_monthly.values\n",
    "\n",
    "fig, ax = plt.subplots(figsize=(16, 12))\n",
    "\n",
    "ax.bar(x, height)\n",
    "ax.set_title(\"Profit Margin by Release Month for Low-Budget Movies\", fontsize=22)\n",
    "ax.set_ylabel(\"Profit Margin\", fontsize=16)\n",
    "ax.set_xlabel(\"Release Month\", fontsize=16)\n",
    "ax.set_xticks(range(1,13))\n",
    "ax.set_xticklabels(list('JFMAMJJASOND'));\n",
    "# ax.yaxis.set_major_formatter(ticker.StrMethodFormatter('${x:,.0f}'))\n",
    "\n",
    "plt.tight_layout()"
   ]
  },
  {
   "attachments": {},
   "cell_type": "markdown",
   "metadata": {},
   "source": [
    "### **Importing Final Master Dataset**"
   ]
  },
  {
   "cell_type": "code",
   "execution_count": 157,
   "metadata": {},
   "outputs": [
    {
     "data": {
      "text/html": [
       "<div>\n",
       "<style scoped>\n",
       "    .dataframe tbody tr th:only-of-type {\n",
       "        vertical-align: middle;\n",
       "    }\n",
       "\n",
       "    .dataframe tbody tr th {\n",
       "        vertical-align: top;\n",
       "    }\n",
       "\n",
       "    .dataframe thead th {\n",
       "        text-align: right;\n",
       "    }\n",
       "</style>\n",
       "<table border=\"1\" class=\"dataframe\">\n",
       "  <thead>\n",
       "    <tr style=\"text-align: right;\">\n",
       "      <th></th>\n",
       "      <th>movie</th>\n",
       "      <th>genres</th>\n",
       "      <th>main_genre</th>\n",
       "      <th>subgenres</th>\n",
       "      <th>release_month</th>\n",
       "      <th>release_year</th>\n",
       "      <th>budget</th>\n",
       "      <th>production_budget</th>\n",
       "      <th>domestic_gross</th>\n",
       "      <th>foreign_gross</th>\n",
       "      <th>worldwide_gross</th>\n",
       "      <th>total_profit</th>\n",
       "      <th>ROI</th>\n",
       "    </tr>\n",
       "  </thead>\n",
       "  <tbody>\n",
       "    <tr>\n",
       "      <th>0</th>\n",
       "      <td>Foodfight!</td>\n",
       "      <td>Action,Animation,Comedy</td>\n",
       "      <td>Action</td>\n",
       "      <td>['Animation', 'Comedy']</td>\n",
       "      <td>12</td>\n",
       "      <td>2012</td>\n",
       "      <td>mid</td>\n",
       "      <td>45000000</td>\n",
       "      <td>0</td>\n",
       "      <td>73706</td>\n",
       "      <td>73706</td>\n",
       "      <td>-44926294</td>\n",
       "      <td>0.163791</td>\n",
       "    </tr>\n",
       "    <tr>\n",
       "      <th>1</th>\n",
       "      <td>The Secret Life of Walter Mitty</td>\n",
       "      <td>Adventure,Comedy,Drama</td>\n",
       "      <td>Adventure</td>\n",
       "      <td>['Comedy', 'Drama']</td>\n",
       "      <td>12</td>\n",
       "      <td>2013</td>\n",
       "      <td>high</td>\n",
       "      <td>91000000</td>\n",
       "      <td>58236838</td>\n",
       "      <td>129624345</td>\n",
       "      <td>187861183</td>\n",
       "      <td>96861183</td>\n",
       "      <td>206.440860</td>\n",
       "    </tr>\n",
       "    <tr>\n",
       "      <th>2</th>\n",
       "      <td>A Walk Among the Tombstones</td>\n",
       "      <td>Action,Crime,Drama</td>\n",
       "      <td>Action</td>\n",
       "      <td>['Crime', 'Drama']</td>\n",
       "      <td>9</td>\n",
       "      <td>2014</td>\n",
       "      <td>mid</td>\n",
       "      <td>28000000</td>\n",
       "      <td>26017685</td>\n",
       "      <td>36090902</td>\n",
       "      <td>62108587</td>\n",
       "      <td>34108587</td>\n",
       "      <td>221.816382</td>\n",
       "    </tr>\n",
       "    <tr>\n",
       "      <th>3</th>\n",
       "      <td>Jurassic World</td>\n",
       "      <td>Action,Adventure,Sci-Fi</td>\n",
       "      <td>Action</td>\n",
       "      <td>['Adventure', 'Sci-Fi']</td>\n",
       "      <td>6</td>\n",
       "      <td>2015</td>\n",
       "      <td>high</td>\n",
       "      <td>215000000</td>\n",
       "      <td>652270625</td>\n",
       "      <td>996584239</td>\n",
       "      <td>1648854864</td>\n",
       "      <td>1433854864</td>\n",
       "      <td>766.909239</td>\n",
       "    </tr>\n",
       "    <tr>\n",
       "      <th>4</th>\n",
       "      <td>The Rum Diary</td>\n",
       "      <td>Comedy,Drama</td>\n",
       "      <td>Comedy</td>\n",
       "      <td>['Drama']</td>\n",
       "      <td>10</td>\n",
       "      <td>2011</td>\n",
       "      <td>mid</td>\n",
       "      <td>45000000</td>\n",
       "      <td>13109815</td>\n",
       "      <td>8434917</td>\n",
       "      <td>21544732</td>\n",
       "      <td>-23455268</td>\n",
       "      <td>47.877182</td>\n",
       "    </tr>\n",
       "    <tr>\n",
       "      <th>...</th>\n",
       "      <td>...</td>\n",
       "      <td>...</td>\n",
       "      <td>...</td>\n",
       "      <td>...</td>\n",
       "      <td>...</td>\n",
       "      <td>...</td>\n",
       "      <td>...</td>\n",
       "      <td>...</td>\n",
       "      <td>...</td>\n",
       "      <td>...</td>\n",
       "      <td>...</td>\n",
       "      <td>...</td>\n",
       "      <td>...</td>\n",
       "    </tr>\n",
       "    <tr>\n",
       "      <th>1582</th>\n",
       "      <td>The First Time</td>\n",
       "      <td>Drama</td>\n",
       "      <td>Drama</td>\n",
       "      <td>[]</td>\n",
       "      <td>10</td>\n",
       "      <td>2012</td>\n",
       "      <td>low</td>\n",
       "      <td>2000000</td>\n",
       "      <td>17061</td>\n",
       "      <td>0</td>\n",
       "      <td>17061</td>\n",
       "      <td>-1982939</td>\n",
       "      <td>0.853050</td>\n",
       "    </tr>\n",
       "    <tr>\n",
       "      <th>1583</th>\n",
       "      <td>Sisters</td>\n",
       "      <td>Action,Drama</td>\n",
       "      <td>Action</td>\n",
       "      <td>['Drama']</td>\n",
       "      <td>12</td>\n",
       "      <td>2015</td>\n",
       "      <td>mid</td>\n",
       "      <td>30000000</td>\n",
       "      <td>87044645</td>\n",
       "      <td>18986015</td>\n",
       "      <td>106030660</td>\n",
       "      <td>76030660</td>\n",
       "      <td>353.435533</td>\n",
       "    </tr>\n",
       "    <tr>\n",
       "      <th>1584</th>\n",
       "      <td>The Promise</td>\n",
       "      <td>Drama</td>\n",
       "      <td>Drama</td>\n",
       "      <td>[]</td>\n",
       "      <td>4</td>\n",
       "      <td>2017</td>\n",
       "      <td>high</td>\n",
       "      <td>90000000</td>\n",
       "      <td>8224288</td>\n",
       "      <td>2327129</td>\n",
       "      <td>10551417</td>\n",
       "      <td>-79448583</td>\n",
       "      <td>11.723797</td>\n",
       "    </tr>\n",
       "    <tr>\n",
       "      <th>1585</th>\n",
       "      <td>Columbus</td>\n",
       "      <td>Comedy</td>\n",
       "      <td>Comedy</td>\n",
       "      <td>[]</td>\n",
       "      <td>8</td>\n",
       "      <td>2017</td>\n",
       "      <td>low</td>\n",
       "      <td>700000</td>\n",
       "      <td>1017107</td>\n",
       "      <td>93404</td>\n",
       "      <td>1110511</td>\n",
       "      <td>410511</td>\n",
       "      <td>158.644429</td>\n",
       "    </tr>\n",
       "    <tr>\n",
       "      <th>1586</th>\n",
       "      <td>Unstoppable</td>\n",
       "      <td>Documentary</td>\n",
       "      <td>Documentary</td>\n",
       "      <td>[]</td>\n",
       "      <td>11</td>\n",
       "      <td>2010</td>\n",
       "      <td>high</td>\n",
       "      <td>95000000</td>\n",
       "      <td>81562942</td>\n",
       "      <td>84157979</td>\n",
       "      <td>165720921</td>\n",
       "      <td>70720921</td>\n",
       "      <td>174.443075</td>\n",
       "    </tr>\n",
       "  </tbody>\n",
       "</table>\n",
       "<p>1587 rows × 13 columns</p>\n",
       "</div>"
      ],
      "text/plain": [
       "                                movie                   genres   main_genre  \\\n",
       "0                          Foodfight!  Action,Animation,Comedy       Action   \n",
       "1     The Secret Life of Walter Mitty   Adventure,Comedy,Drama    Adventure   \n",
       "2         A Walk Among the Tombstones       Action,Crime,Drama       Action   \n",
       "3                      Jurassic World  Action,Adventure,Sci-Fi       Action   \n",
       "4                       The Rum Diary             Comedy,Drama       Comedy   \n",
       "...                               ...                      ...          ...   \n",
       "1582                   The First Time                    Drama        Drama   \n",
       "1583                          Sisters             Action,Drama       Action   \n",
       "1584                      The Promise                    Drama        Drama   \n",
       "1585                         Columbus                   Comedy       Comedy   \n",
       "1586                      Unstoppable              Documentary  Documentary   \n",
       "\n",
       "                    subgenres  release_month  release_year budget  \\\n",
       "0     ['Animation', 'Comedy']             12          2012    mid   \n",
       "1         ['Comedy', 'Drama']             12          2013   high   \n",
       "2          ['Crime', 'Drama']              9          2014    mid   \n",
       "3     ['Adventure', 'Sci-Fi']              6          2015   high   \n",
       "4                   ['Drama']             10          2011    mid   \n",
       "...                       ...            ...           ...    ...   \n",
       "1582                       []             10          2012    low   \n",
       "1583                ['Drama']             12          2015    mid   \n",
       "1584                       []              4          2017   high   \n",
       "1585                       []              8          2017    low   \n",
       "1586                       []             11          2010   high   \n",
       "\n",
       "      production_budget  domestic_gross  foreign_gross  worldwide_gross  \\\n",
       "0              45000000               0          73706            73706   \n",
       "1              91000000        58236838      129624345        187861183   \n",
       "2              28000000        26017685       36090902         62108587   \n",
       "3             215000000       652270625      996584239       1648854864   \n",
       "4              45000000        13109815        8434917         21544732   \n",
       "...                 ...             ...            ...              ...   \n",
       "1582            2000000           17061              0            17061   \n",
       "1583           30000000        87044645       18986015        106030660   \n",
       "1584           90000000         8224288        2327129         10551417   \n",
       "1585             700000         1017107          93404          1110511   \n",
       "1586           95000000        81562942       84157979        165720921   \n",
       "\n",
       "      total_profit         ROI  \n",
       "0        -44926294    0.163791  \n",
       "1         96861183  206.440860  \n",
       "2         34108587  221.816382  \n",
       "3       1433854864  766.909239  \n",
       "4        -23455268   47.877182  \n",
       "...            ...         ...  \n",
       "1582      -1982939    0.853050  \n",
       "1583      76030660  353.435533  \n",
       "1584     -79448583   11.723797  \n",
       "1585        410511  158.644429  \n",
       "1586      70720921  174.443075  \n",
       "\n",
       "[1587 rows x 13 columns]"
      ]
     },
     "execution_count": 157,
     "metadata": {},
     "output_type": "execute_result"
    }
   ],
   "source": [
    "movie_data = pd.read_csv('movie_data.csv')\n",
    "movie_data"
   ]
  },
  {
   "cell_type": "code",
   "execution_count": 158,
   "metadata": {},
   "outputs": [
    {
     "name": "stdout",
     "output_type": "stream",
     "text": [
      "<class 'pandas.core.frame.DataFrame'>\n",
      "RangeIndex: 1587 entries, 0 to 1586\n",
      "Data columns (total 13 columns):\n",
      " #   Column             Non-Null Count  Dtype  \n",
      "---  ------             --------------  -----  \n",
      " 0   movie              1587 non-null   object \n",
      " 1   genres             1587 non-null   object \n",
      " 2   main_genre         1587 non-null   object \n",
      " 3   subgenres          1587 non-null   object \n",
      " 4   release_month      1587 non-null   int64  \n",
      " 5   release_year       1587 non-null   int64  \n",
      " 6   budget             1587 non-null   object \n",
      " 7   production_budget  1587 non-null   int64  \n",
      " 8   domestic_gross     1587 non-null   int64  \n",
      " 9   foreign_gross      1587 non-null   int64  \n",
      " 10  worldwide_gross    1587 non-null   int64  \n",
      " 11  total_profit       1587 non-null   int64  \n",
      " 12  ROI                1587 non-null   float64\n",
      "dtypes: float64(1), int64(7), object(5)\n",
      "memory usage: 161.3+ KB\n"
     ]
    }
   ],
   "source": [
    "movie_data.info()"
   ]
  },
  {
   "cell_type": "code",
   "execution_count": 159,
   "metadata": {},
   "outputs": [
    {
     "data": {
      "text/html": [
       "<div>\n",
       "<style scoped>\n",
       "    .dataframe tbody tr th:only-of-type {\n",
       "        vertical-align: middle;\n",
       "    }\n",
       "\n",
       "    .dataframe tbody tr th {\n",
       "        vertical-align: top;\n",
       "    }\n",
       "\n",
       "    .dataframe thead th {\n",
       "        text-align: right;\n",
       "    }\n",
       "</style>\n",
       "<table border=\"1\" class=\"dataframe\">\n",
       "  <thead>\n",
       "    <tr style=\"text-align: right;\">\n",
       "      <th></th>\n",
       "      <th>release_month</th>\n",
       "      <th>release_year</th>\n",
       "      <th>production_budget</th>\n",
       "      <th>domestic_gross</th>\n",
       "      <th>foreign_gross</th>\n",
       "      <th>worldwide_gross</th>\n",
       "      <th>total_profit</th>\n",
       "      <th>ROI</th>\n",
       "    </tr>\n",
       "  </thead>\n",
       "  <tbody>\n",
       "    <tr>\n",
       "      <th>count</th>\n",
       "      <td>1587.000000</td>\n",
       "      <td>1587.000000</td>\n",
       "      <td>1.587000e+03</td>\n",
       "      <td>1.587000e+03</td>\n",
       "      <td>1.587000e+03</td>\n",
       "      <td>1.587000e+03</td>\n",
       "      <td>1.587000e+03</td>\n",
       "      <td>1587.000000</td>\n",
       "    </tr>\n",
       "    <tr>\n",
       "      <th>mean</th>\n",
       "      <td>6.783239</td>\n",
       "      <td>2013.903592</td>\n",
       "      <td>4.289525e+07</td>\n",
       "      <td>5.348974e+07</td>\n",
       "      <td>8.083751e+07</td>\n",
       "      <td>1.343273e+08</td>\n",
       "      <td>9.143200e+07</td>\n",
       "      <td>378.714116</td>\n",
       "    </tr>\n",
       "    <tr>\n",
       "      <th>std</th>\n",
       "      <td>3.428741</td>\n",
       "      <td>2.555592</td>\n",
       "      <td>5.476229e+07</td>\n",
       "      <td>8.271072e+07</td>\n",
       "      <td>1.519493e+08</td>\n",
       "      <td>2.276758e+08</td>\n",
       "      <td>1.877911e+08</td>\n",
       "      <td>1201.356195</td>\n",
       "    </tr>\n",
       "    <tr>\n",
       "      <th>min</th>\n",
       "      <td>1.000000</td>\n",
       "      <td>2010.000000</td>\n",
       "      <td>9.000000e+03</td>\n",
       "      <td>0.000000e+00</td>\n",
       "      <td>0.000000e+00</td>\n",
       "      <td>2.600000e+01</td>\n",
       "      <td>-2.002376e+08</td>\n",
       "      <td>0.002600</td>\n",
       "    </tr>\n",
       "    <tr>\n",
       "      <th>25%</th>\n",
       "      <td>4.000000</td>\n",
       "      <td>2012.000000</td>\n",
       "      <td>8.000000e+06</td>\n",
       "      <td>2.826730e+06</td>\n",
       "      <td>1.805454e+06</td>\n",
       "      <td>7.682387e+06</td>\n",
       "      <td>-9.965520e+05</td>\n",
       "      <td>75.986010</td>\n",
       "    </tr>\n",
       "    <tr>\n",
       "      <th>50%</th>\n",
       "      <td>7.000000</td>\n",
       "      <td>2014.000000</td>\n",
       "      <td>2.200000e+07</td>\n",
       "      <td>2.512499e+07</td>\n",
       "      <td>1.906292e+07</td>\n",
       "      <td>4.673473e+07</td>\n",
       "      <td>2.086125e+07</td>\n",
       "      <td>208.323185</td>\n",
       "    </tr>\n",
       "    <tr>\n",
       "      <th>75%</th>\n",
       "      <td>10.000000</td>\n",
       "      <td>2016.000000</td>\n",
       "      <td>5.000000e+07</td>\n",
       "      <td>6.415727e+07</td>\n",
       "      <td>8.073556e+07</td>\n",
       "      <td>1.497397e+08</td>\n",
       "      <td>9.634678e+07</td>\n",
       "      <td>400.817445</td>\n",
       "    </tr>\n",
       "    <tr>\n",
       "      <th>max</th>\n",
       "      <td>12.000000</td>\n",
       "      <td>2019.000000</td>\n",
       "      <td>4.106000e+08</td>\n",
       "      <td>7.000596e+08</td>\n",
       "      <td>1.369319e+09</td>\n",
       "      <td>2.048134e+09</td>\n",
       "      <td>1.748134e+09</td>\n",
       "      <td>41656.474000</td>\n",
       "    </tr>\n",
       "  </tbody>\n",
       "</table>\n",
       "</div>"
      ],
      "text/plain": [
       "       release_month  release_year  production_budget  domestic_gross  \\\n",
       "count    1587.000000   1587.000000       1.587000e+03    1.587000e+03   \n",
       "mean        6.783239   2013.903592       4.289525e+07    5.348974e+07   \n",
       "std         3.428741      2.555592       5.476229e+07    8.271072e+07   \n",
       "min         1.000000   2010.000000       9.000000e+03    0.000000e+00   \n",
       "25%         4.000000   2012.000000       8.000000e+06    2.826730e+06   \n",
       "50%         7.000000   2014.000000       2.200000e+07    2.512499e+07   \n",
       "75%        10.000000   2016.000000       5.000000e+07    6.415727e+07   \n",
       "max        12.000000   2019.000000       4.106000e+08    7.000596e+08   \n",
       "\n",
       "       foreign_gross  worldwide_gross  total_profit           ROI  \n",
       "count   1.587000e+03     1.587000e+03  1.587000e+03   1587.000000  \n",
       "mean    8.083751e+07     1.343273e+08  9.143200e+07    378.714116  \n",
       "std     1.519493e+08     2.276758e+08  1.877911e+08   1201.356195  \n",
       "min     0.000000e+00     2.600000e+01 -2.002376e+08      0.002600  \n",
       "25%     1.805454e+06     7.682387e+06 -9.965520e+05     75.986010  \n",
       "50%     1.906292e+07     4.673473e+07  2.086125e+07    208.323185  \n",
       "75%     8.073556e+07     1.497397e+08  9.634678e+07    400.817445  \n",
       "max     1.369319e+09     2.048134e+09  1.748134e+09  41656.474000  "
      ]
     },
     "execution_count": 159,
     "metadata": {},
     "output_type": "execute_result"
    }
   ],
   "source": [
    "movie_data.describe()"
   ]
  },
  {
   "cell_type": "code",
   "execution_count": 160,
   "metadata": {},
   "outputs": [],
   "source": [
    "high_budget = movie_data[movie_data['budget'].str.contains('high')]\n",
    "mid_budget = movie_data[movie_data['budget'].str.contains('mid')]\n",
    "low_budget = movie_data[movie_data['budget'].str.contains('low')]"
   ]
  },
  {
   "cell_type": "code",
   "execution_count": 161,
   "metadata": {},
   "outputs": [
    {
     "data": {
      "image/png": "[encoded data removed]",
      "text/plain": [
       "<Figure size 1440x432 with 3 Axes>"
      ]
     },
     "metadata": {
      "needs_background": "light"
     },
     "output_type": "display_data"
    }
   ],
   "source": [
    "# group movie_data by main_genre and calculate the total profit for each genre\n",
    "genre_profit_high = high_budget.groupby('main_genre')['total_profit'].sum().reset_index()\n",
    "genre_profit_mid = mid_budget.groupby('main_genre')['total_profit'].sum().reset_index()\n",
    "genre_profit_low = low_budget.groupby('main_genre')['total_profit'].sum().reset_index()\n",
    "\n",
    "# sort the dataframes by total_profit in descending order\n",
    "genre_profit_high = genre_profit_high.sort_values(by='total_profit', ascending=False)\n",
    "genre_profit_mid = genre_profit_mid.sort_values(by='total_profit', ascending=False)\n",
    "genre_profit_low = genre_profit_low.sort_values(by='total_profit', ascending=False)\n",
    "\n",
    "# create a matrix plot\n",
    "fig, axs = plt.subplots(1, 3, figsize=(20, 6))\n",
    "\n",
    "# plot the bar charts\n",
    "sns.barplot(x='main_genre', y='total_profit', data=genre_profit_high, order=genre_profit_high['main_genre'], color='b', ax=axs[0])\n",
    "sns.barplot(x='main_genre', y='total_profit', data=genre_profit_mid, order=genre_profit_mid['main_genre'], color='b', ax=axs[1])\n",
    "sns.barplot(x='main_genre', y='total_profit', data=genre_profit_low, order=genre_profit_low['main_genre'], color='b', ax=axs[2])\n",
    "\n",
    "# set titles and labels\n",
    "axs[0].set_title('Total Profit by Main Genre (High Budget)')\n",
    "axs[1].set_title('Total Profit by Main Genre (Mid Budget)')\n",
    "axs[2].set_title('Total Profit by Main Genre (Low Budget)')\n",
    "axs[0].set_xlabel('Main Genre')\n",
    "axs[1].set_xlabel('Main Genre')\n",
    "axs[2].set_xlabel('Main Genre')\n",
    "axs[0].set_ylabel('Total Profit(millions)')\n",
    "axs[1].set_ylabel('Total Profit(millions)')\n",
    "axs[2].set_ylabel('Total Profit(millions)')\n",
    "axs[0].tick_params(axis='x', labelrotation=90)\n",
    "axs[1].tick_params(axis='x', labelrotation=90)\n",
    "axs[2].tick_params(axis='x', labelrotation=90)\n",
    "axs[0].set_ylim([0, max(genre_profit_high['total_profit'])])\n",
    "axs[1].set_ylim([0, max(genre_profit_mid['total_profit'])])\n",
    "axs[2].set_ylim([0, max(genre_profit_low['total_profit'])])\n",
    "\n",
    "plt.show()"
   ]
  },
  {
   "attachments": {},
   "cell_type": "markdown",
   "metadata": {},
   "source": [
    "### **Regression Analysis**"
   ]
  },
  {
   "cell_type": "code",
   "execution_count": 162,
   "metadata": {},
   "outputs": [
    {
     "data": {
      "image/png": "[encoded data removed]",
      "text/plain": [
       "<Figure size 576x576 with 1 Axes>"
      ]
     },
     "metadata": {
      "needs_background": "light"
     },
     "output_type": "display_data"
    }
   ],
   "source": [
    "\n",
    "# Plot the scatterplot\n",
    "lm = sns.lmplot(x='production_budget', y='worldwide_gross', data=movie_data, height=8, aspect=1, scatter_kws= {'color': '#f7d58b'}, line_kws={'color': 'purple'})\n",
    "  \n",
    "ax = lm.ax\n",
    "\n",
    "# Set label for x-axis\n",
    "ax.set_xlabel( \"Production Budget (USD)\" , size = 16 )\n",
    "  \n",
    "# Set label for y-axis\n",
    "ax.set_ylabel( \"Worldwide Gross Sales (USD)\" , size = 16 )\n",
    "  \n",
    "# Set title for plot\n",
    "# ax.set_title( \"Regression Model: Y = 3.26X - 0.0000056\" , size = 24 )\n",
    "\n",
    "# Rotate the x-tick labels\n",
    "ax.set_xticklabels(x, rotation=45, ha='right')\n",
    "\n",
    "# Add a base model that predicts the worldwide gross sales from the mean\n",
    "xmin, xmax = plt.xlim()\n",
    "\n",
    "plt.hlines(y=movie_data['worldwide_gross'].mean(),\n",
    "           xmin=xmin, xmax=xmax,\n",
    "           colors=['purple'],\n",
    "           linestyles={'dashed'})\n",
    "plt.text(xmax, movie_data['worldwide_gross'].mean()-15000000, \n",
    "         f'Base: Mean Worldwide Gross Sales is ${movie_data[\"worldwide_gross\"].mean():,.0f}', \n",
    "         fontsize=12, ha='right', va='top')\n",
    "\n",
    "# Format the x- and y-axis labels\n",
    "ax.xaxis.set_major_formatter(ticker.StrMethodFormatter('${x:,.0f}'))\n",
    "\n",
    "ax.yaxis.set_major_formatter(ticker.StrMethodFormatter('${x:,.0f}'))\n",
    "  \n",
    "# Display figure\n",
    "plt.show()"
   ]
  },
  {
   "cell_type": "code",
   "execution_count": 163,
   "metadata": {},
   "outputs": [
    {
     "name": "stdout",
     "output_type": "stream",
     "text": [
      "(1587,)\n",
      "(1587,)\n"
     ]
    }
   ],
   "source": [
    "X = movie_data['production_budget'].values\n",
    "print(X.shape)\n",
    "\n",
    "y = movie_data.worldwide_gross.values\n",
    "print(y.shape)"
   ]
  },
  {
   "cell_type": "code",
   "execution_count": 164,
   "metadata": {},
   "outputs": [
    {
     "data": {
      "image/png": "[encoded data removed]",
      "text/plain": [
       "<Figure size 864x648 with 1 Axes>"
      ]
     },
     "metadata": {
      "needs_background": "light"
     },
     "output_type": "display_data"
    }
   ],
   "source": [
    "# Baseline model -- use the mean of y as a baseline \n",
    "\n",
    "fig, ax = plt.subplots(figsize=(12, 9))\n",
    "\n",
    "# plt.scatter(movie_data['production_budget'], movie_data['worldwide_gross'])\n",
    "\n",
    "ax.scatter(movie_data['production_budget'], movie_data['worldwide_gross'], color='#f7d58b')\n",
    "\n",
    "xmin, xmax = plt.xlim()\n",
    "\n",
    "plt.hlines(y=movie_data['worldwide_gross'].mean(),\n",
    "           xmin=xmin, xmax=xmax,\n",
    "           colors=['purple'],\n",
    "           linestyles={'dashed'},\n",
    "           label=f'Mean Worldwide Gross is ${movie_data[\"worldwide_gross\"].mean():,.0f}')\n",
    "\n",
    "# plt.title('Predicting Worldwide Gross from Mean')\n",
    "\n",
    "# # Set label for x-axis\n",
    "ax.set_xlabel( \"Production Budget (USD)\" , size = 16 )\n",
    "\n",
    "# # Set label for y-axis\n",
    "ax.set_ylabel( \"Worldwide Gross Sales (USD)\" , size = 16 )\n",
    "  \n",
    "# # Set title for plot\n",
    "ax.set_title( \"Predicting Worldwide Gross from Mean\" , size = 24 )\n",
    "\n",
    "ax.set_xticklabels(x, rotation=45, ha='right')\n",
    "\n",
    "ax.xaxis.set_major_formatter(ticker.StrMethodFormatter('${x:,.0f}'))\n",
    "\n",
    "ax.yaxis.set_major_formatter(ticker.StrMethodFormatter('${x:,.0f}'))\n",
    "\n",
    "plt.legend()\n",
    "plt.show()"
   ]
  },
  {
   "cell_type": "code",
   "execution_count": 165,
   "metadata": {},
   "outputs": [],
   "source": [
    "model = sm.OLS(y, X, hasconst=False) # creating our model"
   ]
  },
  {
   "cell_type": "code",
   "execution_count": 166,
   "metadata": {},
   "outputs": [
    {
     "data": {
      "text/plain": [
       "array([3.21285847])"
      ]
     },
     "execution_count": 166,
     "metadata": {},
     "output_type": "execute_result"
    }
   ],
   "source": [
    "results = model.fit() # actually fitting the model\n",
    "results.params # seeing our coefficients"
   ]
  },
  {
   "cell_type": "code",
   "execution_count": 167,
   "metadata": {},
   "outputs": [
    {
     "data": {
      "text/plain": [
       "array([ 0.        ,  6.42571693, 12.85143386])"
      ]
     },
     "execution_count": 167,
     "metadata": {},
     "output_type": "execute_result"
    }
   ],
   "source": [
    "results.predict([0, 2, 4]) # predicting for some random possible X values"
   ]
  },
  {
   "cell_type": "code",
   "execution_count": 168,
   "metadata": {},
   "outputs": [
    {
     "data": {
      "image/png": "[encoded data removed]",
      "text/plain": [
       "<Figure size 432x288 with 1 Axes>"
      ]
     },
     "metadata": {
      "needs_background": "light"
     },
     "output_type": "display_data"
    }
   ],
   "source": [
    "plt.scatter(movie_data['production_budget'], movie_data['worldwide_gross'])\n",
    "\n",
    "x_pred_range = np.linspace(0, 4, 4)\n",
    "plt.plot(x_pred_range, results.predict(x_pred_range))\n",
    "\n",
    "plt.show()"
   ]
  },
  {
   "cell_type": "code",
   "execution_count": 169,
   "metadata": {},
   "outputs": [
    {
     "data": {
      "text/html": [
       "<div>\n",
       "<style scoped>\n",
       "    .dataframe tbody tr th:only-of-type {\n",
       "        vertical-align: middle;\n",
       "    }\n",
       "\n",
       "    .dataframe tbody tr th {\n",
       "        vertical-align: top;\n",
       "    }\n",
       "\n",
       "    .dataframe thead th {\n",
       "        text-align: right;\n",
       "    }\n",
       "</style>\n",
       "<table border=\"1\" class=\"dataframe\">\n",
       "  <thead>\n",
       "    <tr style=\"text-align: right;\">\n",
       "      <th></th>\n",
       "      <th>ones</th>\n",
       "      <th>production_budget</th>\n",
       "    </tr>\n",
       "  </thead>\n",
       "  <tbody>\n",
       "    <tr>\n",
       "      <th>0</th>\n",
       "      <td>1.0</td>\n",
       "      <td>45000000.0</td>\n",
       "    </tr>\n",
       "    <tr>\n",
       "      <th>1</th>\n",
       "      <td>1.0</td>\n",
       "      <td>91000000.0</td>\n",
       "    </tr>\n",
       "    <tr>\n",
       "      <th>2</th>\n",
       "      <td>1.0</td>\n",
       "      <td>28000000.0</td>\n",
       "    </tr>\n",
       "    <tr>\n",
       "      <th>3</th>\n",
       "      <td>1.0</td>\n",
       "      <td>215000000.0</td>\n",
       "    </tr>\n",
       "    <tr>\n",
       "      <th>4</th>\n",
       "      <td>1.0</td>\n",
       "      <td>45000000.0</td>\n",
       "    </tr>\n",
       "  </tbody>\n",
       "</table>\n",
       "</div>"
      ],
      "text/plain": [
       "   ones  production_budget\n",
       "0   1.0         45000000.0\n",
       "1   1.0         91000000.0\n",
       "2   1.0         28000000.0\n",
       "3   1.0        215000000.0\n",
       "4   1.0         45000000.0"
      ]
     },
     "execution_count": 169,
     "metadata": {},
     "output_type": "execute_result"
    }
   ],
   "source": [
    "X_with_const = sm.add_constant(X) # easiest way to add the constant\n",
    "pd.DataFrame(X_with_const, columns=['ones', 'production_budget']).head() # showing the change"
   ]
  },
  {
   "cell_type": "code",
   "execution_count": 170,
   "metadata": {},
   "outputs": [
    {
     "data": {
      "text/plain": [
       "array([-5.63124836e+06,  3.26279701e+00])"
      ]
     },
     "execution_count": 170,
     "metadata": {},
     "output_type": "execute_result"
    }
   ],
   "source": [
    "model2 = sm.OLS(y, X_with_const, hasconst=True)\n",
    "results2 = model2.fit()\n",
    "results2.params"
   ]
  },
  {
   "cell_type": "code",
   "execution_count": 171,
   "metadata": {},
   "outputs": [
    {
     "data": {
      "image/png": "[encoded data removed]",
      "text/plain": [
       "<Figure size 432x288 with 1 Axes>"
      ]
     },
     "metadata": {
      "needs_background": "light"
     },
     "output_type": "display_data"
    }
   ],
   "source": [
    "plt.scatter(movie_data['production_budget'], movie_data['worldwide_gross'])\n",
    "\n",
    "x_pred_range = np.linspace(0, 4, 4)\n",
    "plt.plot(x_pred_range, results2.predict(sm.add_constant(x_pred_range)))\n",
    "\n",
    "plt.show()"
   ]
  },
  {
   "cell_type": "code",
   "execution_count": 172,
   "metadata": {},
   "outputs": [
    {
     "data": {
      "text/html": [
       "<table class=\"simpletable\">\n",
       "<caption>OLS Regression Results</caption>\n",
       "<tr>\n",
       "  <th>Dep. Variable:</th>            <td>y</td>        <th>  R-squared:         </th> <td>   0.616</td> \n",
       "</tr>\n",
       "<tr>\n",
       "  <th>Model:</th>                   <td>OLS</td>       <th>  Adj. R-squared:    </th> <td>   0.616</td> \n",
       "</tr>\n",
       "<tr>\n",
       "  <th>Method:</th>             <td>Least Squares</td>  <th>  F-statistic:       </th> <td>   2542.</td> \n",
       "</tr>\n",
       "<tr>\n",
       "  <th>Date:</th>             <td>Fri, 23 Jun 2023</td> <th>  Prob (F-statistic):</th>  <td>  0.00</td>  \n",
       "</tr>\n",
       "<tr>\n",
       "  <th>Time:</th>                 <td>12:09:28</td>     <th>  Log-Likelihood:    </th> <td> -32031.</td> \n",
       "</tr>\n",
       "<tr>\n",
       "  <th>No. Observations:</th>      <td>  1587</td>      <th>  AIC:               </th> <td>6.407e+04</td>\n",
       "</tr>\n",
       "<tr>\n",
       "  <th>Df Residuals:</th>          <td>  1585</td>      <th>  BIC:               </th> <td>6.408e+04</td>\n",
       "</tr>\n",
       "<tr>\n",
       "  <th>Df Model:</th>              <td>     1</td>      <th>                     </th>     <td> </td>    \n",
       "</tr>\n",
       "<tr>\n",
       "  <th>Covariance Type:</th>      <td>nonrobust</td>    <th>                     </th>     <td> </td>    \n",
       "</tr>\n",
       "</table>\n",
       "<table class=\"simpletable\">\n",
       "<tr>\n",
       "    <td></td>       <th>coef</th>     <th>std err</th>      <th>t</th>      <th>P>|t|</th>  <th>[0.025</th>    <th>0.975]</th>  \n",
       "</tr>\n",
       "<tr>\n",
       "  <th>const</th> <td>-5.631e+06</td> <td>  4.5e+06</td> <td>   -1.251</td> <td> 0.211</td> <td>-1.45e+07</td> <td>  3.2e+06</td>\n",
       "</tr>\n",
       "<tr>\n",
       "  <th>x1</th>    <td>    3.2628</td> <td>    0.065</td> <td>   50.414</td> <td> 0.000</td> <td>    3.136</td> <td>    3.390</td>\n",
       "</tr>\n",
       "</table>\n",
       "<table class=\"simpletable\">\n",
       "<tr>\n",
       "  <th>Omnibus:</th>       <td>780.042</td> <th>  Durbin-Watson:     </th> <td>   1.950</td> \n",
       "</tr>\n",
       "<tr>\n",
       "  <th>Prob(Omnibus):</th> <td> 0.000</td>  <th>  Jarque-Bera (JB):  </th> <td>12952.413</td>\n",
       "</tr>\n",
       "<tr>\n",
       "  <th>Skew:</th>          <td> 1.882</td>  <th>  Prob(JB):          </th> <td>    0.00</td> \n",
       "</tr>\n",
       "<tr>\n",
       "  <th>Kurtosis:</th>      <td>16.480</td>  <th>  Cond. No.          </th> <td>8.84e+07</td> \n",
       "</tr>\n",
       "</table><br/><br/>Notes:<br/>[1] Standard Errors assume that the covariance matrix of the errors is correctly specified.<br/>[2] The condition number is large, 8.84e+07. This might indicate that there are<br/>strong multicollinearity or other numerical problems."
      ],
      "text/latex": [
       "\\begin{center}\n",
       "\\begin{tabular}{lclc}\n",
       "\\toprule\n",
       "\\textbf{Dep. Variable:}    &        y         & \\textbf{  R-squared:         } &     0.616   \\\\\n",
       "\\textbf{Model:}            &       OLS        & \\textbf{  Adj. R-squared:    } &     0.616   \\\\\n",
       "\\textbf{Method:}           &  Least Squares   & \\textbf{  F-statistic:       } &     2542.   \\\\\n",
       "\\textbf{Date:}             & Fri, 23 Jun 2023 & \\textbf{  Prob (F-statistic):} &     0.00    \\\\\n",
       "\\textbf{Time:}             &     12:09:28     & \\textbf{  Log-Likelihood:    } &   -32031.   \\\\\n",
       "\\textbf{No. Observations:} &        1587      & \\textbf{  AIC:               } & 6.407e+04   \\\\\n",
       "\\textbf{Df Residuals:}     &        1585      & \\textbf{  BIC:               } & 6.408e+04   \\\\\n",
       "\\textbf{Df Model:}         &           1      & \\textbf{                     } &             \\\\\n",
       "\\textbf{Covariance Type:}  &    nonrobust     & \\textbf{                     } &             \\\\\n",
       "\\bottomrule\n",
       "\\end{tabular}\n",
       "\\begin{tabular}{lcccccc}\n",
       "               & \\textbf{coef} & \\textbf{std err} & \\textbf{t} & \\textbf{P$> |$t$|$} & \\textbf{[0.025} & \\textbf{0.975]}  \\\\\n",
       "\\midrule\n",
       "\\textbf{const} &   -5.631e+06  &      4.5e+06     &    -1.251  &         0.211        &    -1.45e+07    &      3.2e+06     \\\\\n",
       "\\textbf{x1}    &       3.2628  &        0.065     &    50.414  &         0.000        &        3.136    &        3.390     \\\\\n",
       "\\bottomrule\n",
       "\\end{tabular}\n",
       "\\begin{tabular}{lclc}\n",
       "\\textbf{Omnibus:}       & 780.042 & \\textbf{  Durbin-Watson:     } &     1.950  \\\\\n",
       "\\textbf{Prob(Omnibus):} &   0.000 & \\textbf{  Jarque-Bera (JB):  } & 12952.413  \\\\\n",
       "\\textbf{Skew:}          &   1.882 & \\textbf{  Prob(JB):          } &      0.00  \\\\\n",
       "\\textbf{Kurtosis:}      &  16.480 & \\textbf{  Cond. No.          } &  8.84e+07  \\\\\n",
       "\\bottomrule\n",
       "\\end{tabular}\n",
       "%\\caption{OLS Regression Results}\n",
       "\\end{center}\n",
       "\n",
       "Notes: \\newline\n",
       " [1] Standard Errors assume that the covariance matrix of the errors is correctly specified. \\newline\n",
       " [2] The condition number is large, 8.84e+07. This might indicate that there are \\newline\n",
       " strong multicollinearity or other numerical problems."
      ],
      "text/plain": [
       "<class 'statsmodels.iolib.summary.Summary'>\n",
       "\"\"\"\n",
       "                            OLS Regression Results                            \n",
       "==============================================================================\n",
       "Dep. Variable:                      y   R-squared:                       0.616\n",
       "Model:                            OLS   Adj. R-squared:                  0.616\n",
       "Method:                 Least Squares   F-statistic:                     2542.\n",
       "Date:                Fri, 23 Jun 2023   Prob (F-statistic):               0.00\n",
       "Time:                        12:09:28   Log-Likelihood:                -32031.\n",
       "No. Observations:                1587   AIC:                         6.407e+04\n",
       "Df Residuals:                    1585   BIC:                         6.408e+04\n",
       "Df Model:                           1                                         \n",
       "Covariance Type:            nonrobust                                         \n",
       "==============================================================================\n",
       "                 coef    std err          t      P>|t|      [0.025      0.975]\n",
       "------------------------------------------------------------------------------\n",
       "const      -5.631e+06    4.5e+06     -1.251      0.211   -1.45e+07     3.2e+06\n",
       "x1             3.2628      0.065     50.414      0.000       3.136       3.390\n",
       "==============================================================================\n",
       "Omnibus:                      780.042   Durbin-Watson:                   1.950\n",
       "Prob(Omnibus):                  0.000   Jarque-Bera (JB):            12952.413\n",
       "Skew:                           1.882   Prob(JB):                         0.00\n",
       "Kurtosis:                      16.480   Cond. No.                     8.84e+07\n",
       "==============================================================================\n",
       "\n",
       "Notes:\n",
       "[1] Standard Errors assume that the covariance matrix of the errors is correctly specified.\n",
       "[2] The condition number is large, 8.84e+07. This might indicate that there are\n",
       "strong multicollinearity or other numerical problems.\n",
       "\"\"\""
      ]
     },
     "execution_count": 172,
     "metadata": {},
     "output_type": "execute_result"
    }
   ],
   "source": [
    "# Summary of regression results for model with a constant\n",
    "\n",
    "results2.summary()"
   ]
  },
  {
   "attachments": {},
   "cell_type": "markdown",
   "metadata": {},
   "source": []
  }
 ],
 "metadata": {
  "kernelspec": {
   "display_name": "Python 3",
   "language": "python",
   "name": "python3"
  },
  "language_info": {
   "codemirror_mode": {
    "name": "ipython",
    "version": 3
   },
   "file_extension": ".py",
   "mimetype": "text/x-python",
   "name": "python",
   "nbconvert_exporter": "python",
   "pygments_lexer": "ipython3",
   "version": "3.8.5"
  }
 },
 "nbformat": 4,
 "nbformat_minor": 4
}
