{
 "cells": [
  {
   "cell_type": "code",
   "execution_count": 1,
   "metadata": {},
   "outputs": [],
   "source": [
    "import pandas as pd\n",
    "import numpy as np\n",
    "import matplotlib.pyplot as plt\n",
    "import seaborn as sns\n",
    "from scipy import stats\n",
    "from sklearn.linear_model import LinearRegression\n",
    "import math\n",
    "import sqlite3\n",
    "import zipfile\n",
    "import warnings\n",
    "warnings.filterwarnings('ignore')"
   ]
  },
  {
   "cell_type": "code",
   "execution_count": 2,
   "metadata": {},
   "outputs": [],
   "source": [
    "movie = pd.read_csv('zippedData/tmdb.movies.csv.gz')\n",
    "movie_info = pd.read_csv('zippedData/rt.movie_info.tsv.gz',sep='\\t', compression='gzip')\n",
    "movie_review = pd.read_csv('zippedData/rt.reviews.tsv.gz', sep='\\t', encoding='latin1')\n",
    "movie_gross = pd.read_csv('zippedData/bom.movie_gross.csv.gz')\n",
    "movie_budget = pd.read_csv('zippedData/tn.movie_budgets.csv.gz')\n",
    "conn = sqlite3.connect('im.db.zip')\n",
    "#specify the path to the zip file\n",
    "zip_file_path = 'zippedData/im.db.zip'\n",
    "\n",
    "#Extract the SQLite database file from the zip file\n",
    "with zipfile.ZipFile(zip_file_path, 'r') as zip_ref:\n",
    "    zip_ref.extractall('unzippedData')\n",
    "\n",
    "#connect to extracted SQLite database\n",
    "database_path = 'unzippedData/im.db'\n",
    "conn = sqlite3.connect(database_path)"
   ]
  },
  {
   "cell_type": "code",
   "execution_count": 3,
   "metadata": {},
   "outputs": [],
   "source": [
    "# drop \"Unnamed: 0\" and \"original_title\" columns from the \"movie\" dataframe\n",
    "movie.drop([\"Unnamed: 0\", \"original_title\"], axis=1, inplace=True)\n",
    "\n",
    "# convert \"release_date\" column to datetime format\n",
    "movie[\"release_date\"] = pd.to_datetime(movie[\"release_date\"])\n",
    "\n",
    "# create \"year\" and \"month\" columns from \"release_date\" column\n",
    "movie[\"year\"] = movie[\"release_date\"].dt.year\n",
    "movie[\"month\"] = movie[\"release_date\"].dt.month"
   ]
  },
  {
   "cell_type": "code",
   "execution_count": 4,
   "metadata": {},
   "outputs": [],
   "source": [
    "# convert \"production_budget\", \"domestic_gross\" and \"worldwide_gross\" columns to int64 format\n",
    "movie_budget[\"production_budget\"] = movie_budget[\"production_budget\"].str.replace(\",\", \"\").str.replace(\"$\", \"\").astype(\"int64\")\n",
    "movie_budget[\"domestic_gross\"] = movie_budget[\"domestic_gross\"].str.replace(\",\", \"\").str.replace(\"$\", \"\").astype(\"int64\")\n",
    "movie_budget[\"worldwide_gross\"] = movie_budget[\"worldwide_gross\"].str.replace(\",\", \"\").str.replace(\"$\", \"\").astype(\"int64\")\n",
    "\n",
    "# create \"foreign_gross\" column by subtracting \"domestic_gross\" from \"worldwide_gross\"\n",
    "movie_budget[\"foreign_gross\"] = movie_budget[\"worldwide_gross\"] - movie_budget[\"domestic_gross\"]\n",
    "\n",
    "# create \"total_profit\" column by subtracting \"worldwide_gross\" from \"production_budget\"\n",
    "movie_budget[\"total_profit\"] = movie_budget[\"worldwide_gross\"] - movie_budget[\"production_budget\"]\n",
    "\n",
    "# create \"total_profit_margin\" column by dividing \"total_profit\" by \"production_budget\"\n",
    "movie_budget[\"total_profit_margin\"] = movie_budget[\"total_profit\"] / movie_budget[\"production_budget\"]"
   ]
  },
  {
   "cell_type": "code",
   "execution_count": 5,
   "metadata": {
    "scrolled": true
   },
   "outputs": [],
   "source": [
    "movie_basics = pd.read_sql(\"\"\"\n",
    "SELECT *\n",
    "FROM movie_basics\n",
    "JOIN directors\n",
    "    USING(movie_id)\n",
    "JOIN persons\n",
    "    USING(person_id)\n",
    "JOIN principals\n",
    "    USING(person_id)\n",
    "WHERE category = 'director'\n",
    "\"\"\",conn)"
   ]
  },
  {
   "cell_type": "code",
   "execution_count": 6,
   "metadata": {},
   "outputs": [],
   "source": [
    "movie_basics.drop_duplicates(subset=\"primary_title\", keep=\"last\", inplace=True)"
   ]
  },
  {
   "cell_type": "code",
   "execution_count": 7,
   "metadata": {},
   "outputs": [],
   "source": [
    "# drop duplicates from movie_basics based on movie_id column\n",
    "movie_basics.drop_duplicates(subset=\"primary_title\", keep=\"last\", inplace=True)"
   ]
  },
  {
   "cell_type": "code",
   "execution_count": 8,
   "metadata": {},
   "outputs": [],
   "source": [
    "# merge movie_basics and movie_budget on movie and primary_title\n",
    "movie_df = pd.merge(movie_basics, movie_budget, left_on=\"primary_title\", right_on=\"movie\", how=\"inner\")"
   ]
  },
  {
   "cell_type": "code",
   "execution_count": 9,
   "metadata": {},
   "outputs": [],
   "source": [
    "movie_df.drop([\"job\", \"characters\", \"movie_id\", \"primary_profession\", \"person_id\", \"primary_title\", \"original_title\"], axis=1, inplace=True)"
   ]
  },
  {
   "cell_type": "code",
   "execution_count": 12,
   "metadata": {},
   "outputs": [
    {
     "name": "stdout",
     "output_type": "stream",
     "text": [
      "<class 'pandas.core.frame.DataFrame'>\n",
      "Int64Index: 2314 entries, 0 to 2313\n",
      "Data columns (total 17 columns):\n",
      " #   Column               Non-Null Count  Dtype  \n",
      "---  ------               --------------  -----  \n",
      " 0   start_year           2314 non-null   int64  \n",
      " 1   runtime_minutes      2122 non-null   float64\n",
      " 2   genres               2302 non-null   object \n",
      " 3   primary_name         2314 non-null   object \n",
      " 4   birth_year           1288 non-null   float64\n",
      " 5   death_year           18 non-null     float64\n",
      " 6   ordering             2314 non-null   int64  \n",
      " 7   category             2314 non-null   object \n",
      " 8   id                   2314 non-null   int64  \n",
      " 9   release_date         2314 non-null   object \n",
      " 10  movie                2314 non-null   object \n",
      " 11  production_budget    2314 non-null   int64  \n",
      " 12  domestic_gross       2314 non-null   int64  \n",
      " 13  worldwide_gross      2314 non-null   int64  \n",
      " 14  foreign_gross        2314 non-null   int64  \n",
      " 15  total_profit         2314 non-null   int64  \n",
      " 16  total_profit_margin  2314 non-null   float64\n",
      "dtypes: float64(4), int64(8), object(5)\n",
      "memory usage: 325.4+ KB\n"
     ]
    }
   ],
   "source": [
    "movie_df.info()"
   ]
  },
  {
   "cell_type": "code",
   "execution_count": 13,
   "metadata": {},
   "outputs": [],
   "source": [
    "# Create a boolean mask for movies with total_gross over the high budget threshold\n",
    "#https://www.studiobinder.com/blog/production-budget/\n",
    "\n",
    "high_budget = 50000000\n",
    "low_budget = 5000000\n",
    "\n",
    "high_budget_mask = movie_df['production_budget'] > high_budget\n",
    "low_budget_mask = movie_df['production_budget']< low_budget\n",
    "budget_mask = (movie_df['production_budget'] >= low_budget) & (movie_df['production_budget'] <= high_budget)\n",
    "\n",
    "# Create a new dataframe for high budget movies\n",
    "high_budget = movie_df[high_budget_mask]\n",
    "low_budget = movie_df[low_budget_mask]\n",
    "mid_budget = movie_df[budget_mask]"
   ]
  },
  {
   "cell_type": "code",
   "execution_count": 15,
   "metadata": {},
   "outputs": [
    {
     "data": {
      "image/png": "[encoded data removed]",
      "text/plain": [
       "<Figure size 432x288 with 1 Axes>"
      ]
     },
     "metadata": {},
     "output_type": "display_data"
    },
    {
     "data": {
      "text/plain": [
       "<Figure size 864x864 with 0 Axes>"
      ]
     },
     "metadata": {},
     "output_type": "display_data"
    }
   ],
   "source": [
    "# sort dataframe by total gross and select top 50 movies\n",
    "top_50 = movie_df.sort_values(by='total_profit', ascending=False).head(25)\n",
    "\n",
    "sns.set_style('whitegrid')\n",
    "\n",
    "# create stacked bar plot of total gross and production budget\n",
    "sns.barplot(x='movie', y='total_profit', data=top_50, color='blue')\n",
    "sns.barplot(x='movie', y='production_budget', data=top_50, color='red', alpha=0.7, estimator=sum)\n",
    "\n",
    "# add labels and title\n",
    "plt.xlabel('Movie', fontsize=14)\n",
    "plt.ylabel('Amount in Millions', fontsize=14)\n",
    "plt.title('Top 25 Movies by Total Gross and Production Budget', fontsize=16)\n",
    "\n",
    "# rotate x-axis labels for better readability\n",
    "plt.xticks(rotation=90, fontsize=12)\n",
    "\n",
    "# increase figure size\n",
    "plt.figure(figsize=(12,12))\n",
    "\n",
    "# display plot\n",
    "plt.show()"
   ]
  },
  {
   "cell_type": "code",
   "execution_count": null,
   "metadata": {},
   "outputs": [],
   "source": [
    "# sort dataframe by total gross and select top 50 movies\n",
    "top_25_high = high_budget.sort_values(by='total_gross', ascending=False).head(25)\n",
    "\n",
    "sns.set_style('whitegrid')\n",
    "\n",
    "# create stacked bar plot of total gross and production budget\n",
    "sns.barplot(x='movie', y='total_gross', data=top_25_high, color='blue')\n",
    "sns.barplot(x='movie', y='production_budget', data=top_25_high, color='red', alpha=0.7, estimator=sum)\n",
    "\n",
    "# add labels and title\n",
    "plt.xlabel('Movie', fontsize=14)\n",
    "plt.ylabel('Amount in Millions', fontsize=14)\n",
    "plt.title('Top 25 Movies by Total Gross and High Production Budget', fontsize=16)\n",
    "\n",
    "# rotate x-axis labels for better readability\n",
    "plt.xticks(rotation=90, fontsize=12)\n",
    "\n",
    "# increase figure size\n",
    "plt.figure(figsize=(12,12))\n",
    "\n",
    "# display plot\n",
    "plt.show()"
   ]
  },
  {
   "cell_type": "code",
   "execution_count": null,
   "metadata": {},
   "outputs": [],
   "source": [
    "# sort dataframe by total gross and select top 50 movies\n",
    "top_25_mid = mid_budget.sort_values(by='total_gross', ascending=False).head(25)\n",
    "\n",
    "sns.set_style('whitegrid')\n",
    "\n",
    "# create stacked bar plot of total gross and production budget\n",
    "sns.barplot(x='movie', y='total_gross', data=top_25_mid, color='blue')\n",
    "sns.barplot(x='movie', y='production_budget', data=top_25_mid, color='red', alpha=0.7, estimator=sum)\n",
    "\n",
    "# add labels and title\n",
    "plt.xlabel('Movie', fontsize=14)\n",
    "plt.ylabel('Amount in Millions', fontsize=14)\n",
    "plt.title('Top 25 Movies by Total Gross and Mid Production Budget', fontsize=16)\n",
    "\n",
    "# rotate x-axis labels for better readability\n",
    "plt.xticks(rotation=90, fontsize=12)\n",
    "\n",
    "# increase figure size\n",
    "plt.figure(figsize=(12,12))\n",
    "\n",
    "# display plot\n",
    "plt.show()"
   ]
  },
  {
   "cell_type": "code",
   "execution_count": null,
   "metadata": {},
   "outputs": [],
   "source": [
    "# sort dataframe by total gross and select top 50 movies\n",
    "top_25_low = low_budget.sort_values(by='total_gross', ascending=False).head(25)\n",
    "\n",
    "sns.set_style('whitegrid')\n",
    "\n",
    "# create stacked bar plot of total gross and production budget\n",
    "sns.barplot(x='movie', y='total_gross', data=top_25_low, color='blue')\n",
    "sns.barplot(x='movie', y='production_budget', data=top_25_low, color='red', alpha=0.7, estimator=sum)\n",
    "\n",
    "# add labels and title\n",
    "plt.xlabel('Movie', fontsize=14)\n",
    "plt.ylabel('Amount in Millions', fontsize=14)\n",
    "plt.title('Top 25 Movies by Total Gross and Low Production Budget', fontsize=16)\n",
    "\n",
    "# rotate x-axis labels for better readability\n",
    "plt.xticks(rotation=90, fontsize=12)\n",
    "\n",
    "# increase figure size\n",
    "plt.figure(figsize=(12,12))\n",
    "\n",
    "# display plot\n",
    "plt.show()"
   ]
  },
  {
   "cell_type": "code",
   "execution_count": null,
   "metadata": {},
   "outputs": [],
   "source": [
    "import seaborn as sns\n",
    "\n",
    "# create a new dataframe with total gross and year\n",
    "total_gross_year = movie_money[['total_gross', 'year']].copy()\n",
    "total_gross_year['year'] = total_gross_year['year']\n",
    "\n",
    "# plot distribution plot of total gross by year\n",
    "sns.lineplot(data=total_gross_year, x='year', y='total_gross')"
   ]
  },
  {
   "cell_type": "code",
   "execution_count": null,
   "metadata": {},
   "outputs": [],
   "source": [
    "import seaborn as sns\n",
    "\n",
    "# create a new dataframe with total gross and year\n",
    "total_gross_month = movie_money[['total_gross', 'month']].copy()\n",
    "total_gross_month['month'] = total_gross_year['month']\n",
    "\n",
    "# plot distribution plot of total gross by year\n",
    "sns.lineplot(data=total_gross_month, x='month', y='total_gross')"
   ]
  },
  {
   "cell_type": "code",
   "execution_count": null,
   "metadata": {},
   "outputs": [],
   "source": [
    "pd.read_sql(\"\"\"\n",
    "SELECT *\n",
    "FROM movie_basics\n",
    "\"\"\",conn)"
   ]
  },
  {
   "cell_type": "code",
   "execution_count": null,
   "metadata": {},
   "outputs": [],
   "source": []
  }
 ],
 "metadata": {
  "kernelspec": {
   "display_name": "Python 3",
   "language": "python",
   "name": "python3"
  },
  "language_info": {
   "codemirror_mode": {
    "name": "ipython",
    "version": 3
   },
   "file_extension": ".py",
   "mimetype": "text/x-python",
   "name": "python",
   "nbconvert_exporter": "python",
   "pygments_lexer": "ipython3",
   "version": "3.8.5"
  }
 },
 "nbformat": 4,
 "nbformat_minor": 4
}
