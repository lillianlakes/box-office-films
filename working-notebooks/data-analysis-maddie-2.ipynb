{
 "cells": [
  {
   "cell_type": "code",
   "execution_count": 40,
   "metadata": {},
   "outputs": [],
   "source": [
    "import pandas as pd\n",
    "import numpy as np\n",
    "import matplotlib.pyplot as plt\n",
    "import seaborn as sns\n",
    "from scipy import stats\n",
    "from sklearn.linear_model import LinearRegression\n",
    "import math\n",
    "import sqlite3\n",
    "import zipfile\n",
    "import warnings\n",
    "warnings.filterwarnings('ignore')"
   ]
  },
  {
   "cell_type": "code",
   "execution_count": 41,
   "metadata": {},
   "outputs": [],
   "source": [
    "#movie = pd.read_csv('../data/zippedData/tmdb.movies.csv.gz')\n",
    "#movie_info = pd.read_csv('../data/zippedData/rt.movie_info.tsv.gz',sep='\\t', compression='gzip')\n",
    "#movie_review = pd.read_csv('../data/zippedData/rt.reviews.tsv.gz', sep='\\t', encoding='latin1')\n",
    "#movie_gross = pd.read_csv('../data/zippedData/bom.movie_gross.csv.gz')\n",
    "movie_budget = pd.read_csv('../data/zippedData/tn.movie_budgets.csv.gz')\n",
    "conn = sqlite3.connect('im.db.zip')\n",
    "#specify the path to the zip file\n",
    "zip_file_path = '../data/zippedData/im.db.zip'\n",
    "\n",
    "#Extract the SQLite database file from the zip file\n",
    "with zipfile.ZipFile(zip_file_path, 'r') as zip_ref:\n",
    "    zip_ref.extractall('unzippedData')\n",
    "\n",
    "#connect to extracted SQLite database\n",
    "database_path = 'unzippedData/im.db'\n",
    "conn = sqlite3.connect(database_path)"
   ]
  },
  {
   "cell_type": "code",
   "execution_count": 42,
   "metadata": {},
   "outputs": [
    {
     "name": "stdout",
     "output_type": "stream",
     "text": [
      "<class 'pandas.core.frame.DataFrame'>\n",
      "RangeIndex: 5782 entries, 0 to 5781\n",
      "Data columns (total 6 columns):\n",
      " #   Column             Non-Null Count  Dtype \n",
      "---  ------             --------------  ----- \n",
      " 0   id                 5782 non-null   int64 \n",
      " 1   release_date       5782 non-null   object\n",
      " 2   movie              5782 non-null   object\n",
      " 3   production_budget  5782 non-null   object\n",
      " 4   domestic_gross     5782 non-null   object\n",
      " 5   worldwide_gross    5782 non-null   object\n",
      "dtypes: int64(1), object(5)\n",
      "memory usage: 271.2+ KB\n"
     ]
    }
   ],
   "source": [
    "movie_budget.info()"
   ]
  },
  {
   "cell_type": "code",
   "execution_count": 43,
   "metadata": {},
   "outputs": [],
   "source": [
    "# convert \"release_date\" column to datetime format\n",
    "movie_budget[\"release_date\"] = pd.to_datetime(movie_budget[\"release_date\"])\n",
    "\n",
    "# create \"year\" and \"month\" columns from \"release_date\" column\n",
    "movie_budget[\"release_year\"] = movie_budget[\"release_date\"].dt.year\n",
    "movie_budget[\"release_month\"] = movie_budget[\"release_date\"].dt.month\n"
   ]
  },
  {
   "cell_type": "code",
   "execution_count": 44,
   "metadata": {},
   "outputs": [],
   "source": [
    "# convert \"production_budget\", \"domestic_gross\" and \"worldwide_gross\" columns to int64 format\n",
    "movie_budget[\"production_budget\"] = movie_budget[\"production_budget\"].str.replace(\",\", \"\").str.replace(\"$\", \"\").astype(\"int64\")\n",
    "movie_budget[\"domestic_gross\"] = movie_budget[\"domestic_gross\"].str.replace(\",\", \"\").str.replace(\"$\", \"\").astype(\"int64\")\n",
    "movie_budget[\"worldwide_gross\"] = movie_budget[\"worldwide_gross\"].str.replace(\",\", \"\").str.replace(\"$\", \"\").astype(\"int64\")\n",
    "\n",
    "#drop columns where worldwide gross is 0, since they were not released theatrically \n",
    "movie_budget = movie_budget[movie_budget['worldwide_gross'] != 0]\n",
    "\n",
    "# create \"foreign_gross\" column by subtracting \"domestic_gross\" from \"worldwide_gross\"\n",
    "movie_budget[\"foreign_gross\"] = movie_budget[\"worldwide_gross\"] - movie_budget[\"domestic_gross\"]\n",
    "\n",
    "# create \"total_profit\" column by subtracting \"worldwide_gross\" from \"production_budget\"\n",
    "movie_budget[\"total_profit\"] = movie_budget[\"worldwide_gross\"] - movie_budget[\"production_budget\"]\n"
   ]
  },
  {
   "cell_type": "code",
   "execution_count": 45,
   "metadata": {},
   "outputs": [],
   "source": [
    "movie_basics = pd.read_sql(\"\"\"\n",
    "SELECT primary_title, genres\n",
    "FROM movie_basics\n",
    "\"\"\",conn)"
   ]
  },
  {
   "cell_type": "code",
   "execution_count": 46,
   "metadata": {},
   "outputs": [
    {
     "name": "stdout",
     "output_type": "stream",
     "text": [
      "<class 'pandas.core.frame.DataFrame'>\n",
      "RangeIndex: 146144 entries, 0 to 146143\n",
      "Data columns (total 2 columns):\n",
      " #   Column         Non-Null Count   Dtype \n",
      "---  ------         --------------   ----- \n",
      " 0   primary_title  146144 non-null  object\n",
      " 1   genres         140736 non-null  object\n",
      "dtypes: object(2)\n",
      "memory usage: 2.2+ MB\n"
     ]
    }
   ],
   "source": [
    "movie_basics.info()"
   ]
  },
  {
   "cell_type": "code",
   "execution_count": 47,
   "metadata": {},
   "outputs": [],
   "source": [
    "movie_basics.drop_duplicates(subset=\"primary_title\", keep=\"last\", inplace=True)"
   ]
  },
  {
   "cell_type": "code",
   "execution_count": 48,
   "metadata": {},
   "outputs": [],
   "source": [
    "# merge movie_basics and movie_budget on movie and primary_title\n",
    "movie_df = pd.merge(movie_basics, movie_budget, left_on=\"primary_title\", right_on=\"movie\", how=\"inner\")"
   ]
  },
  {
   "cell_type": "code",
   "execution_count": 49,
   "metadata": {},
   "outputs": [
    {
     "name": "stdout",
     "output_type": "stream",
     "text": [
      "<class 'pandas.core.frame.DataFrame'>\n",
      "RangeIndex: 2153 entries, 0 to 2152\n",
      "Data columns (total 12 columns):\n",
      " #   Column             Non-Null Count  Dtype         \n",
      "---  ------             --------------  -----         \n",
      " 0   primary_title      2153 non-null   object        \n",
      " 1   genres             2124 non-null   object        \n",
      " 2   id                 2153 non-null   int64         \n",
      " 3   release_date       2153 non-null   datetime64[ns]\n",
      " 4   movie              2153 non-null   object        \n",
      " 5   production_budget  2153 non-null   int64         \n",
      " 6   domestic_gross     2153 non-null   int64         \n",
      " 7   worldwide_gross    2153 non-null   int64         \n",
      " 8   release_year       2153 non-null   int32         \n",
      " 9   release_month      2153 non-null   int32         \n",
      " 10  foreign_gross      2153 non-null   int64         \n",
      " 11  total_profit       2153 non-null   int64         \n",
      "dtypes: datetime64[ns](1), int32(2), int64(6), object(3)\n",
      "memory usage: 185.1+ KB\n"
     ]
    }
   ],
   "source": [
    "movie_df.info()"
   ]
  },
  {
   "cell_type": "code",
   "execution_count": 50,
   "metadata": {},
   "outputs": [],
   "source": [
    "movie_df.drop([\"primary_title\", \"id\"], axis=1, inplace=True)"
   ]
  },
  {
   "cell_type": "code",
   "execution_count": 51,
   "metadata": {},
   "outputs": [],
   "source": [
    "#drop films before 2010\n",
    "movie_df = movie_df[movie_df[\"release_year\"] >= 2010]"
   ]
  },
  {
   "cell_type": "code",
   "execution_count": 52,
   "metadata": {},
   "outputs": [
    {
     "name": "stdout",
     "output_type": "stream",
     "text": [
      "<class 'pandas.core.frame.DataFrame'>\n",
      "Index: 1597 entries, 0 to 2152\n",
      "Data columns (total 10 columns):\n",
      " #   Column             Non-Null Count  Dtype         \n",
      "---  ------             --------------  -----         \n",
      " 0   genres             1587 non-null   object        \n",
      " 1   release_date       1597 non-null   datetime64[ns]\n",
      " 2   movie              1597 non-null   object        \n",
      " 3   production_budget  1597 non-null   int64         \n",
      " 4   domestic_gross     1597 non-null   int64         \n",
      " 5   worldwide_gross    1597 non-null   int64         \n",
      " 6   release_year       1597 non-null   int32         \n",
      " 7   release_month      1597 non-null   int32         \n",
      " 8   foreign_gross      1597 non-null   int64         \n",
      " 9   total_profit       1597 non-null   int64         \n",
      "dtypes: datetime64[ns](1), int32(2), int64(5), object(2)\n",
      "memory usage: 124.8+ KB\n"
     ]
    }
   ],
   "source": [
    "movie_df.info()"
   ]
  },
  {
   "cell_type": "code",
   "execution_count": 53,
   "metadata": {},
   "outputs": [],
   "source": [
    "movie_df = movie_df[[\"movie\", \"genres\", 'release_month', 'release_year', \"production_budget\", \"domestic_gross\", \"foreign_gross\", \"worldwide_gross\", \"total_profit\"]]"
   ]
  },
  {
   "cell_type": "code",
   "execution_count": 54,
   "metadata": {},
   "outputs": [],
   "source": [
    "#create columns for low, mid, and high budgets films \n",
    "def budget(x): \n",
    "    if x < 5000000: \n",
    "        budget = 'low'\n",
    "    if 5000000 <= x < 50000000: \n",
    "        budget = 'mid'\n",
    "    if x >= 50000000:\n",
    "        budget = 'high'\n",
    "    return budget\n",
    "#feature engineering a new column for budget categories \n",
    "movie_df['budget'] = movie_df['production_budget'].apply(lambda x: budget(x))"
   ]
  },
  {
   "cell_type": "code",
   "execution_count": 55,
   "metadata": {},
   "outputs": [],
   "source": [
    "#drop null genres\n",
    "movie_df.dropna(subset='genres', inplace=True)"
   ]
  },
  {
   "cell_type": "code",
   "execution_count": 56,
   "metadata": {},
   "outputs": [],
   "source": [
    "#create main genre column\n",
    "def get_main_genre(x):\n",
    "    genres = x.split(',')\n",
    "    main_genre = genres[0]\n",
    "    return main_genre\n",
    "movie_df['main_genre'] = movie_df['genres'].apply(lambda x: get_main_genre(x))"
   ]
  },
  {
   "cell_type": "code",
   "execution_count": 57,
   "metadata": {},
   "outputs": [],
   "source": [
    "#create subgenres column\n",
    "def get_subgenres(x):\n",
    "    genres = x.split(',')\n",
    "    sub_genres = genres[1:]\n",
    "    return sub_genres\n",
    "movie_df['subgenres'] = movie_df['genres'].apply(lambda x: get_subgenres(x))"
   ]
  },
  {
   "cell_type": "code",
   "execution_count": 58,
   "metadata": {},
   "outputs": [],
   "source": [
    "movie_df = movie_df[[\"movie\", \"genres\", 'main_genre', 'subgenres', 'release_month', 'release_year', 'budget', \"production_budget\", \"domestic_gross\", \"foreign_gross\", \"worldwide_gross\", \"total_profit\"]]"
   ]
  },
  {
   "cell_type": "code",
   "execution_count": 59,
   "metadata": {},
   "outputs": [],
   "source": [
    "movie_df.reset_index(inplace=True)"
   ]
  },
  {
   "cell_type": "code",
   "execution_count": 60,
   "metadata": {},
   "outputs": [],
   "source": [
    "movie_df.drop('index', axis =1, inplace=True)"
   ]
  },
  {
   "cell_type": "code",
   "execution_count": 61,
   "metadata": {},
   "outputs": [
    {
     "name": "stdout",
     "output_type": "stream",
     "text": [
      "<class 'pandas.core.frame.DataFrame'>\n",
      "RangeIndex: 1587 entries, 0 to 1586\n",
      "Data columns (total 12 columns):\n",
      " #   Column             Non-Null Count  Dtype \n",
      "---  ------             --------------  ----- \n",
      " 0   movie              1587 non-null   object\n",
      " 1   genres             1587 non-null   object\n",
      " 2   main_genre         1587 non-null   object\n",
      " 3   subgenres          1587 non-null   object\n",
      " 4   release_month      1587 non-null   int32 \n",
      " 5   release_year       1587 non-null   int32 \n",
      " 6   budget             1587 non-null   object\n",
      " 7   production_budget  1587 non-null   int64 \n",
      " 8   domestic_gross     1587 non-null   int64 \n",
      " 9   foreign_gross      1587 non-null   int64 \n",
      " 10  worldwide_gross    1587 non-null   int64 \n",
      " 11  total_profit       1587 non-null   int64 \n",
      "dtypes: int32(2), int64(5), object(5)\n",
      "memory usage: 136.5+ KB\n"
     ]
    }
   ],
   "source": [
    "movie_df.info()"
   ]
  },
  {
   "cell_type": "code",
   "execution_count": 62,
   "metadata": {},
   "outputs": [],
   "source": [
    "movie_df['ROI'] = (movie_df['worldwide_gross'] / movie_df['production_budget']) * 100"
   ]
  },
  {
   "cell_type": "code",
   "execution_count": 63,
   "metadata": {},
   "outputs": [],
   "source": [
    "# Write the DataFrame to a CSV file\n",
    "movie_df.to_csv('../data/movie_data.csv', index=False)"
   ]
  },
  {
   "cell_type": "code",
   "execution_count": 64,
   "metadata": {},
   "outputs": [],
   "source": [
    "#test\n",
    "movie_data = pd.read_csv('../data/movie_data.csv')"
   ]
  },
  {
   "cell_type": "code",
   "execution_count": 65,
   "metadata": {},
   "outputs": [
    {
     "name": "stdout",
     "output_type": "stream",
     "text": [
      "<class 'pandas.core.frame.DataFrame'>\n",
      "RangeIndex: 1587 entries, 0 to 1586\n",
      "Data columns (total 13 columns):\n",
      " #   Column             Non-Null Count  Dtype  \n",
      "---  ------             --------------  -----  \n",
      " 0   movie              1587 non-null   object \n",
      " 1   genres             1587 non-null   object \n",
      " 2   main_genre         1587 non-null   object \n",
      " 3   subgenres          1587 non-null   object \n",
      " 4   release_month      1587 non-null   int64  \n",
      " 5   release_year       1587 non-null   int64  \n",
      " 6   budget             1587 non-null   object \n",
      " 7   production_budget  1587 non-null   int64  \n",
      " 8   domestic_gross     1587 non-null   int64  \n",
      " 9   foreign_gross      1587 non-null   int64  \n",
      " 10  worldwide_gross    1587 non-null   int64  \n",
      " 11  total_profit       1587 non-null   int64  \n",
      " 12  ROI                1587 non-null   float64\n",
      "dtypes: float64(1), int64(7), object(5)\n",
      "memory usage: 161.3+ KB\n"
     ]
    }
   ],
   "source": [
    "movie_data.info()"
   ]
  },
  {
   "cell_type": "code",
   "execution_count": 66,
   "metadata": {},
   "outputs": [],
   "source": [
    "data_high = movie_data[movie_data['budget'] == 'high']\n",
    "data_mid = movie_data[movie_data['budget'] == 'mid']\n",
    "data_low = movie_data[movie_data['budget'] == 'low']"
   ]
  },
  {
   "cell_type": "code",
   "execution_count": 67,
   "metadata": {},
   "outputs": [
    {
     "data": {
      "text/plain": [
       "main_genre\n",
       "Action         287.466656\n",
       "Adventure      239.114391\n",
       "Animation      206.797629\n",
       "Biography      293.176743\n",
       "Comedy         330.285128\n",
       "Crime          186.188736\n",
       "Documentary    320.301181\n",
       "Drama          313.528989\n",
       "Family         176.929247\n",
       "Fantasy        219.435807\n",
       "Horror         909.417836\n",
       "Music           50.460589\n",
       "Musical          9.496536\n",
       "Mystery        830.086342\n",
       "Romance        608.661986\n",
       "Sci-Fi          35.973200\n",
       "Sport           30.239489\n",
       "Thriller       219.207777\n",
       "Western         24.366401\n",
       "Name: ROI, dtype: float64"
      ]
     },
     "execution_count": 67,
     "metadata": {},
     "output_type": "execute_result"
    }
   ],
   "source": [
    "data_mid.groupby('main_genre')['ROI'].mean()"
   ]
  },
  {
   "cell_type": "code",
   "execution_count": 68,
   "metadata": {},
   "outputs": [
    {
     "data": {
      "text/plain": [
       "0.6420446729986338"
      ]
     },
     "execution_count": 68,
     "metadata": {},
     "output_type": "execute_result"
    }
   ],
   "source": [
    "high_fg = data_high['foreign_gross'].sum()\n",
    "high_ww = data_high['worldwide_gross'].sum()\n",
    "\n",
    "percent_f = high_fg / high_ww\n",
    "\n",
    "percent_f"
   ]
  },
  {
   "cell_type": "code",
   "execution_count": 69,
   "metadata": {},
   "outputs": [
    {
     "data": {
      "text/plain": [
       "0.48731005683746265"
      ]
     },
     "execution_count": 69,
     "metadata": {},
     "output_type": "execute_result"
    }
   ],
   "source": [
    "mid_fg = data_mid['foreign_gross'].sum()\n",
    "mid_ww = data_mid['worldwide_gross'].sum()\n",
    "\n",
    "percent_f_mid = mid_fg / mid_ww \n",
    "\n",
    "percent_f_mid"
   ]
  },
  {
   "cell_type": "code",
   "execution_count": 70,
   "metadata": {},
   "outputs": [
    {
     "data": {
      "text/plain": [
       "0.44200263810300083"
      ]
     },
     "execution_count": 70,
     "metadata": {},
     "output_type": "execute_result"
    }
   ],
   "source": [
    "low_fg = data_low['foreign_gross'].sum()\n",
    "low_ww = data_low['worldwide_gross'].sum()\n",
    "\n",
    "percent_f_low = low_fg / low_ww\n",
    "\n",
    "percent_f_low"
   ]
  },
  {
   "cell_type": "code",
   "execution_count": 71,
   "metadata": {},
   "outputs": [
    {
     "data": {
      "image/png": "[encoded data removed]",
      "text/plain": [
       "<Figure size 432x288 with 1 Axes>"
      ]
     },
     "metadata": {
      "needs_background": "light"
     },
     "output_type": "display_data"
    }
   ],
   "source": [
    "high_monthly = data_high.groupby('release_month')['ROI'].median()\n",
    "x = high_monthly.index\n",
    "y = high_monthly.values\n",
    "\n",
    "plt.bar(x, y);"
   ]
  },
  {
   "cell_type": "code",
   "execution_count": 72,
   "metadata": {},
   "outputs": [
    {
     "data": {
      "image/png": "[encoded data removed]",
      "text/plain": [
       "<Figure size 432x288 with 1 Axes>"
      ]
     },
     "metadata": {
      "needs_background": "light"
     },
     "output_type": "display_data"
    }
   ],
   "source": [
    "#group by month and bar chart \n",
    "mid_horror = data_mid[data_mid['main_genre'] == 'Horror']\n",
    "\n",
    "horror_by_month = mid_horror.groupby('release_month')['total_profit'].median()\n",
    "x = horror_by_month.index\n",
    "y = horror_by_month.values\n",
    "\n",
    "plt.bar(x, y);"
   ]
  },
  {
   "cell_type": "code",
   "execution_count": 73,
   "metadata": {},
   "outputs": [
    {
     "data": {
      "image/png": "[encoded data removed]",
      "text/plain": [
       "<Figure size 432x288 with 1 Axes>"
      ]
     },
     "metadata": {
      "needs_background": "light"
     },
     "output_type": "display_data"
    }
   ],
   "source": [
    "low_monthly_h = data_low.groupby('release_month')['total_profit'].median()\n",
    "x = low_monthly_h.index\n",
    "y = low_monthly_h.values\n",
    "\n",
    "plt.bar(x, y);"
   ]
  },
  {
   "attachments": {},
   "cell_type": "markdown",
   "metadata": {},
   "source": [
    "## Linear Regression"
   ]
  },
  {
   "cell_type": "code",
   "execution_count": 74,
   "metadata": {},
   "outputs": [
    {
     "data": {
      "text/html": [
       "<style>#sk-container-id-2 {color: black;background-color: white;}#sk-container-id-2 pre{padding: 0;}#sk-container-id-2 div.sk-toggleable {background-color: white;}#sk-container-id-2 label.sk-toggleable__label {cursor: pointer;display: block;width: 100%;margin-bottom: 0;padding: 0.3em;box-sizing: border-box;text-align: center;}#sk-container-id-2 label.sk-toggleable__label-arrow:before {content: \"▸\";float: left;margin-right: 0.25em;color: #696969;}#sk-container-id-2 label.sk-toggleable__label-arrow:hover:before {color: black;}#sk-container-id-2 div.sk-estimator:hover label.sk-toggleable__label-arrow:before {color: black;}#sk-container-id-2 div.sk-toggleable__content {max-height: 0;max-width: 0;overflow: hidden;text-align: left;background-color: #f0f8ff;}#sk-container-id-2 div.sk-toggleable__content pre {margin: 0.2em;color: black;border-radius: 0.25em;background-color: #f0f8ff;}#sk-container-id-2 input.sk-toggleable__control:checked~div.sk-toggleable__content {max-height: 200px;max-width: 100%;overflow: auto;}#sk-container-id-2 input.sk-toggleable__control:checked~label.sk-toggleable__label-arrow:before {content: \"▾\";}#sk-container-id-2 div.sk-estimator input.sk-toggleable__control:checked~label.sk-toggleable__label {background-color: #d4ebff;}#sk-container-id-2 div.sk-label input.sk-toggleable__control:checked~label.sk-toggleable__label {background-color: #d4ebff;}#sk-container-id-2 input.sk-hidden--visually {border: 0;clip: rect(1px 1px 1px 1px);clip: rect(1px, 1px, 1px, 1px);height: 1px;margin: -1px;overflow: hidden;padding: 0;position: absolute;width: 1px;}#sk-container-id-2 div.sk-estimator {font-family: monospace;background-color: #f0f8ff;border: 1px dotted black;border-radius: 0.25em;box-sizing: border-box;margin-bottom: 0.5em;}#sk-container-id-2 div.sk-estimator:hover {background-color: #d4ebff;}#sk-container-id-2 div.sk-parallel-item::after {content: \"\";width: 100%;border-bottom: 1px solid gray;flex-grow: 1;}#sk-container-id-2 div.sk-label:hover label.sk-toggleable__label {background-color: #d4ebff;}#sk-container-id-2 div.sk-serial::before {content: \"\";position: absolute;border-left: 1px solid gray;box-sizing: border-box;top: 0;bottom: 0;left: 50%;z-index: 0;}#sk-container-id-2 div.sk-serial {display: flex;flex-direction: column;align-items: center;background-color: white;padding-right: 0.2em;padding-left: 0.2em;position: relative;}#sk-container-id-2 div.sk-item {position: relative;z-index: 1;}#sk-container-id-2 div.sk-parallel {display: flex;align-items: stretch;justify-content: center;background-color: white;position: relative;}#sk-container-id-2 div.sk-item::before, #sk-container-id-2 div.sk-parallel-item::before {content: \"\";position: absolute;border-left: 1px solid gray;box-sizing: border-box;top: 0;bottom: 0;left: 50%;z-index: -1;}#sk-container-id-2 div.sk-parallel-item {display: flex;flex-direction: column;z-index: 1;position: relative;background-color: white;}#sk-container-id-2 div.sk-parallel-item:first-child::after {align-self: flex-end;width: 50%;}#sk-container-id-2 div.sk-parallel-item:last-child::after {align-self: flex-start;width: 50%;}#sk-container-id-2 div.sk-parallel-item:only-child::after {width: 0;}#sk-container-id-2 div.sk-dashed-wrapped {border: 1px dashed gray;margin: 0 0.4em 0.5em 0.4em;box-sizing: border-box;padding-bottom: 0.4em;background-color: white;}#sk-container-id-2 div.sk-label label {font-family: monospace;font-weight: bold;display: inline-block;line-height: 1.2em;}#sk-container-id-2 div.sk-label-container {text-align: center;}#sk-container-id-2 div.sk-container {/* jupyter's `normalize.less` sets `[hidden] { display: none; }` but bootstrap.min.css set `[hidden] { display: none !important; }` so we also need the `!important` here to be able to override the default hidden behavior on the sphinx rendered scikit-learn.org. See: https://github.com/scikit-learn/scikit-learn/issues/21755 */display: inline-block !important;position: relative;}#sk-container-id-2 div.sk-text-repr-fallback {display: none;}</style><div id=\"sk-container-id-2\" class=\"sk-top-container\"><div class=\"sk-text-repr-fallback\"><pre>LinearRegression()</pre><b>In a Jupyter environment, please rerun this cell to show the HTML representation or trust the notebook. <br />On GitHub, the HTML representation is unable to render, please try loading this page with nbviewer.org.</b></div><div class=\"sk-container\" hidden><div class=\"sk-item\"><div class=\"sk-estimator sk-toggleable\"><input class=\"sk-toggleable__control sk-hidden--visually\" id=\"sk-estimator-id-2\" type=\"checkbox\" checked><label for=\"sk-estimator-id-2\" class=\"sk-toggleable__label sk-toggleable__label-arrow\">LinearRegression</label><div class=\"sk-toggleable__content\"><pre>LinearRegression()</pre></div></div></div></div></div>"
      ],
      "text/plain": [
       "LinearRegression()"
      ]
     },
     "execution_count": 74,
     "metadata": {},
     "output_type": "execute_result"
    }
   ],
   "source": [
    "from sklearn.linear_model import LinearRegression\n",
    "from sklearn.model_selection import train_test_split\n",
    "from sklearn.metrics import mean_squared_error\n",
    "\n",
    "horrors = movie_data[movie_data['main_genre'] == 'Horror']\n",
    "\n",
    "X = horrors['production_budget'].values\n",
    "y = horrors['ROI'].values\n",
    "X = np.array(X).reshape(-1, 1)\n",
    "model = LinearRegression()\n",
    "model.fit(X, y)\n",
    "\n"
   ]
  },
  {
   "cell_type": "code",
   "execution_count": 75,
   "metadata": {},
   "outputs": [
    {
     "data": {
      "image/png": "[encoded data removed]",
      "text/plain": [
       "<Figure size 432x288 with 1 Axes>"
      ]
     },
     "metadata": {
      "needs_background": "light"
     },
     "output_type": "display_data"
    }
   ],
   "source": [
    "import matplotlib.pyplot as plt\n",
    "plt.scatter(X, y, color='blue', label='Data')\n",
    "plt.plot(X, model.predict(X), color='red', label='Linear Regression')\n",
    "plt.xlabel('X')\n",
    "plt.ylabel('y')\n",
    "plt.legend()\n",
    "plt.show()\n"
   ]
  },
  {
   "cell_type": "code",
   "execution_count": 76,
   "metadata": {},
   "outputs": [
    {
     "name": "stdout",
     "output_type": "stream",
     "text": [
      "-2.240222874716176e-05 1995.0205315561652\n"
     ]
    }
   ],
   "source": [
    "slope = model.coef_[0]\n",
    "slope\n",
    "intercept = model.intercept_\n",
    "print(slope, intercept)"
   ]
  },
  {
   "cell_type": "code",
   "execution_count": 77,
   "metadata": {},
   "outputs": [
    {
     "name": "stdout",
     "output_type": "stream",
     "text": [
      "Root Mean Squared Error (RMSE): 1859.2394935284008\n",
      "Mean Absolute Error (MAE): 1577.3427136048172\n",
      "Mean Absolute Percentage Error (MAPE): 28952.148938798786\n"
     ]
    }
   ],
   "source": [
    "from sklearn.linear_model import LinearRegression\n",
    "from sklearn.model_selection import train_test_split\n",
    "from sklearn.metrics import mean_squared_error, mean_absolute_error\n",
    "import numpy as np\n",
    "\n",
    "#data\n",
    "X = X = horrors['production_budget'].values\n",
    "y = y = horrors['ROI'].values\n",
    "X = np.array(X).reshape(-1, 1)\n",
    "\n",
    "# Splitting the data into training and testing sets\n",
    "X_train, X_test, y_train, y_test = train_test_split(X, y, test_size=0.2, random_state=42)\n",
    "\n",
    "# Create an instance of the LinearRegression model\n",
    "model = LinearRegression()\n",
    "\n",
    "# Train the model using the training data\n",
    "model.fit(X_train, y_train)\n",
    "\n",
    "# Make predictions on the test set\n",
    "y_pred = model.predict(X_test)\n",
    "\n",
    "# Calculate RMSE\n",
    "rmse = np.sqrt(mean_squared_error(y_test, y_pred))\n",
    "print(\"Root Mean Squared Error (RMSE):\", rmse)\n",
    "\n",
    "# Calculate MAE\n",
    "mae = mean_absolute_error(y_test, y_pred)\n",
    "print(\"Mean Absolute Error (MAE):\", mae)\n",
    "\n",
    "# Calculate MAPE\n",
    "mape = np.mean(np.abs((y_test - y_pred) / y_test)) * 100\n",
    "print(\"Mean Absolute Percentage Error (MAPE):\", mape)\n",
    "\n",
    "\n"
   ]
  },
  {
   "cell_type": "code",
   "execution_count": 78,
   "metadata": {},
   "outputs": [
    {
     "name": "stdout",
     "output_type": "stream",
     "text": [
      "R-squared: -0.14488400946049307\n"
     ]
    }
   ],
   "source": [
    "r2 = model.score(X_test, y_test)\n",
    "print(\"R-squared:\", r2)"
   ]
  }
 ],
 "metadata": {
  "kernelspec": {
   "display_name": "learn-env",
   "language": "python",
   "name": "python3"
  },
  "language_info": {
   "codemirror_mode": {
    "name": "ipython",
    "version": 3
   },
   "file_extension": ".py",
   "mimetype": "text/x-python",
   "name": "python",
   "nbconvert_exporter": "python",
   "pygments_lexer": "ipython3",
   "version": "3.8.5"
  },
  "orig_nbformat": 4
 },
 "nbformat": 4,
 "nbformat_minor": 2
}
